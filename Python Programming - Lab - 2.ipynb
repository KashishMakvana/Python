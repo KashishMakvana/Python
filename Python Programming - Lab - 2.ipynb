{
 "cells": [
  {
   "cell_type": "markdown",
   "metadata": {},
   "source": [
    "\n",
    "<a href='https://www.darshan.ac.in/'> <img src='https://www.darshan.ac.in/Content/media/DU_Logo.svg' width=\"250\" height=\"300\"/></a>\n",
    "<pre>\n",
    "<center><b><h1>Python Programming - 2101CS405</b></center>\n",
    "<center><b><h1>Lab - 2</b></center>    \n",
    "<pre>\n",
    "\n",
    "### Makvana Kashish Rohitbhai\r",
    "### 23010101629\r\n",
    "### 09-january-2024\n"
   ]
  },
  {
   "cell_type": "markdown",
   "metadata": {},
   "source": [
    "# if..else.."
   ]
  },
  {
   "cell_type": "markdown",
   "metadata": {},
   "source": [
    "### 01) WAP to check whether the given number is positive or negative."
   ]
  },
  {
   "cell_type": "code",
   "execution_count": 1,
   "metadata": {},
   "outputs": [
    {
     "name": "stdin",
     "output_type": "stream",
     "text": [
      "Enter the Number: 5\n"
     ]
    },
    {
     "name": "stdout",
     "output_type": "stream",
     "text": [
      "Number is positve..\n"
     ]
    }
   ],
   "source": [
    "num = int(input(\"Enter the Number:\"))\n",
    "if num>0:\n",
    "    print(\"Number is positve..\")\n",
    "else:\n",
    "    print(\"Number is negative..\")"
   ]
  },
  {
   "cell_type": "markdown",
   "metadata": {},
   "source": [
    "### 02) WAP to check whether the given number is odd or even"
   ]
  },
  {
   "cell_type": "code",
   "execution_count": 2,
   "metadata": {},
   "outputs": [
    {
     "name": "stdin",
     "output_type": "stream",
     "text": [
      "Enter the Number: 4\n"
     ]
    },
    {
     "name": "stdout",
     "output_type": "stream",
     "text": [
      "Number is Even\n"
     ]
    }
   ],
   "source": [
    "num = int(input(\"Enter the Number:\"))\n",
    "if num%2==0:\n",
    "    print(\"Number is Even\")\n",
    "else:\n",
    "    print(\"Number is Odd\")"
   ]
  },
  {
   "cell_type": "markdown",
   "metadata": {},
   "source": [
    "### 03) WAP to find out largest number from given two numbers using simple if and ternary operator."
   ]
  },
  {
   "cell_type": "code",
   "execution_count": 3,
   "metadata": {},
   "outputs": [
    {
     "name": "stdin",
     "output_type": "stream",
     "text": [
      "Enter the Number 1: 45\n",
      "Enter the Number 2: 6\n"
     ]
    },
    {
     "name": "stdout",
     "output_type": "stream",
     "text": [
      "Largest Number is 45\n"
     ]
    }
   ],
   "source": [
    "num1 = int(input(\"Enter the Number 1:\"))\n",
    "num2 = int(input(\"Enter the Number 2:\"))\n",
    "    #OR\n",
    "#if num1>num2:\n",
    "   # print(\"Largest Number is\",num1)\n",
    "#else:\n",
    "    #print(\"Largest Number is:\",num2)\n",
    "print(\"Largest Number is\",num1) if num1 > num2 else print(\"largest Number is\",num2)"
   ]
  },
  {
   "cell_type": "markdown",
   "metadata": {},
   "source": [
    "### 04) WAP to find out largest number from given three numbers."
   ]
  },
  {
   "cell_type": "code",
   "execution_count": 4,
   "metadata": {},
   "outputs": [
    {
     "name": "stdin",
     "output_type": "stream",
     "text": [
      "Enter the Number 1: 45\n",
      "Enter the Number 2: 32\n",
      "Enter the Number 3: 87\n"
     ]
    },
    {
     "name": "stdout",
     "output_type": "stream",
     "text": [
      "\n",
      "Largest Number = 87\n"
     ]
    }
   ],
   "source": [
    "num1 = int(input(\"Enter the Number 1:\"))\n",
    "num2 = int(input(\"Enter the Number 2:\"))\n",
    "num3 = int(input(\"Enter the Number 3:\"))\n",
    "\n",
    "#if num1>num2:\n",
    " #   if num1>num3: \n",
    "  #          print(\"Largest Number1 is :\",num1)\n",
    "   # else:\n",
    "    #        print(\"Largest Number3 is:\",num3)\n",
    "#elif num2>num3:\n",
    " #   print(\"Largest Number2 is :\",num2)\n",
    "#else:\n",
    " #   print(\"Largest Number3 is:\",num3)\n",
    "\n",
    "    #OR\n",
    "if num1>num2 and num1>num3:\n",
    "    print(\"\\nLargest Number =\", num1)\n",
    "if num2>num1 and num2>num3:\n",
    "    print(\"\\nLargest Number =\", num2)\n",
    "if num3>num1 and num3>num2:\n",
    "    print(\"\\nLargest Number =\", num3)"
   ]
  },
  {
   "cell_type": "markdown",
   "metadata": {},
   "source": [
    "### 05) WAP to check whether the given year is leap year or not.\n",
    "[If a year can be divisible by 4 but not divisible by 100 then it is leap year but if it is divisible by 400 then it is leap year]"
   ]
  },
  {
   "cell_type": "code",
   "execution_count": 5,
   "metadata": {},
   "outputs": [
    {
     "name": "stdin",
     "output_type": "stream",
     "text": [
      "Enter Any Year 2026\n"
     ]
    },
    {
     "name": "stdout",
     "output_type": "stream",
     "text": [
      "No,Entered year is Not Leap Year 2026\n"
     ]
    }
   ],
   "source": [
    "year = int(input(\"Enter Any Year\"))\n",
    "if(year%4==0 and year%100!= 0 or year%400==0):\n",
    "    print(\"Yes ,Entered year Leap Year is : \",year)\n",
    "else:\n",
    "    print(\"No,Entered year is Not Leap Year\",year)"
   ]
  },
  {
   "cell_type": "markdown",
   "metadata": {},
   "source": [
    "### 06) WAP in python to display the name of the day according to the number given by the user"
   ]
  },
  {
   "cell_type": "code",
   "execution_count": 6,
   "metadata": {},
   "outputs": [
    {
     "name": "stdin",
     "output_type": "stream",
     "text": [
      "Enter the Number of perticuler day in week. 2\n"
     ]
    },
    {
     "name": "stdout",
     "output_type": "stream",
     "text": [
      "Tuesday\n"
     ]
    }
   ],
   "source": [
    "NoOfDay = int(input(\"Enter the Number of perticuler day in week.\"))\n",
    "if(NoOfDay==1):\n",
    "    print(\"Monday\")\n",
    "elif(NoOfDay==2):\n",
    "    print(\"Tuesday\")\n",
    "elif(NoOfDay==3):\n",
    "    print(\"Wednesday\")\n",
    "elif(NoOfDay==4):\n",
    "    print(\"Thruesday\")\n",
    "elif(NoOfDay==5):\n",
    "    print(\"Friday\")\n",
    "elif(NoOfDay==6):\n",
    "    print(\"Saturday\")\n",
    "elif(NoOfDay==7):\n",
    "    print(\"Sunday\")\n",
    "else:\n",
    "    print(\"Enter valid No Of Day\")\n"
   ]
  },
  {
   "cell_type": "markdown",
   "metadata": {},
   "source": [
    "### 07) WAP to implement simple calculator which performs (add,sub,mul,div) of two no. based on user input."
   ]
  },
  {
   "cell_type": "code",
   "execution_count": 7,
   "metadata": {},
   "outputs": [
    {
     "name": "stdin",
     "output_type": "stream",
     "text": [
      "Enter the Number of value of n1 34\n",
      "Enter the Number of value of n2 30\n"
     ]
    },
    {
     "name": "stdout",
     "output_type": "stream",
     "text": [
      "Enter the Operation :\n",
      " 1.Addtion\n",
      " 2.Subtartion\n",
      " 3.Multiplication\n",
      " 4.Division\n"
     ]
    },
    {
     "name": "stdin",
     "output_type": "stream",
     "text": [
      "Enter the opration You want to perform.. 2\n"
     ]
    },
    {
     "name": "stdout",
     "output_type": "stream",
     "text": [
      "Subtation of n1 and n2 is: 4\n"
     ]
    }
   ],
   "source": [
    "n1 = int(input(\"Enter the Number of value of n1\"))\n",
    "n2 = int(input(\"Enter the Number of value of n2\"))\n",
    "print(\"Enter the Operation :\\n 1.Addtion\\n 2.Subtartion\\n 3.Multiplication\\n 4.Division\")\n",
    "op = int(input(\"Enter the opration You want to perform..\"))\n",
    "if(op==1):\n",
    "    print(\"Addtion of n1 and n2 is:\",n1+n2)\n",
    "elif(op==2):\n",
    "    print(\"Subtation of n1 and n2 is:\",n1-n2)\n",
    "elif(op==3):\n",
    "    print(\"Multiplication of n1 and n2 is :\",n1*n2)\n",
    "elif(op==4):\n",
    "    print(\"Division of n1 by n2 is:\",n1/n2)\n",
    "else:\n",
    "    print(\"Enter valid Choice of Operation!!\")"
   ]
  },
  {
   "cell_type": "markdown",
   "metadata": {},
   "source": [
    "### 08) WAP to calculate electricity bill based on following criteria. Which takes the unit from the user.\n",
    "a. First 1 to 50 units – Rs. 2.60/unit</br>\n",
    "b. Next 50 to 100 units – Rs. 3.25/unit</br>\n",
    "c. Next 100 to 200 units – Rs. 5.26/unit</br>\n",
    "d. above 200 units – Rs. 8.45/unit"
   ]
  },
  {
   "cell_type": "code",
   "execution_count": 8,
   "metadata": {},
   "outputs": [
    {
     "name": "stdin",
     "output_type": "stream",
     "text": [
      "Enter Units: 234\n"
     ]
    },
    {
     "name": "stdout",
     "output_type": "stream",
     "text": [
      "Bill is: 1105.8\n"
     ]
    }
   ],
   "source": [
    "unit = int(input(\"Enter Units:\"))\n",
    "if(unit>=1 and unit<50):\n",
    "    bill = unit*2.60\n",
    "    print(\"Bill is:\",bill)\n",
    "elif(unit>=50 and unit<100):\n",
    "    bill = (unit-50)*3.25+50*2.60\n",
    "    print(\"Bill is:\",bill)\n",
    "elif(unit>=100 and unit<200):\n",
    "    bill = (unit-50-50)*5.26 + 50*3.25 + 50*2.60\n",
    "    print(\"bill is:\",bill)\n",
    "elif(unit>=200):\n",
    "    bill = (unit-50-50-100)*8.45 + 50*3.25 + 50*2.60 + 100*5.26\n",
    "    print(\"Bill is:\",bill)\n",
    "else:\n",
    "    print(\"Enter valid Units pls!!\")"
   ]
  },
  {
   "cell_type": "markdown",
   "metadata": {},
   "source": [
    "### 01) WAP to read marks of five subjects. Calculate percentage and print class accordingly. \n",
    "Fail below 35 </br>\n",
    "Pass Class between 35 to 45 </br>\n",
    "Second Class</br>\n",
    "between 45 to 60</br>\n",
    "First Class between 60 to 70</br> \n",
    "Distinction if more than 70"
   ]
  },
  {
   "cell_type": "code",
   "execution_count": 9,
   "metadata": {},
   "outputs": [
    {
     "name": "stdin",
     "output_type": "stream",
     "text": [
      "Enter the Number of value of mark1 34\n",
      "Enter the Number of value of mark2 54\n",
      "Enter the Number of value of mark3 56\n",
      "Enter the Number of value of mark4 67\n",
      "Enter the Number of value of mark5 78\n"
     ]
    },
    {
     "name": "stdout",
     "output_type": "stream",
     "text": [
      "Total of five subjects marks 289\n",
      "percentage of subjects marks 82.57142857142857\n",
      "Distinction\n"
     ]
    }
   ],
   "source": [
    "mark1 = int(input(\"Enter the Number of value of mark1\"))\n",
    "mark2 = int(input(\"Enter the Number of value of mark2\"))\n",
    "mark3 = int(input(\"Enter the Number of value of mark3\"))\n",
    "mark4 = int(input(\"Enter the Number of value of mark4\"))\n",
    "mark5 = int(input(\"Enter the Number of value of mark5\"))\n",
    "\n",
    "total = mark1+mark2+mark3+mark4+mark5\n",
    "print(\"Total of five subjects marks\",total)\n",
    "percentage = (total/350)*100\n",
    "print(\"percentage of subjects marks\",percentage)\n",
    "\n",
    "if percentage<35:\n",
    "    print(\"Fail\")\n",
    "elif percentage>=35 and percentage<45:\n",
    "    print(\"Pass Class\")\n",
    "elif percentage>=45 and percentage<60:\n",
    "    print(\"Second Class\")\n",
    "elif percentage>=60 and percentage<=70:\n",
    "    print(\"First Class\")\n",
    "elif percentage>70:\n",
    "    print(\"Distinction\")\n",
    "else:\n",
    "    print(\"Error!!\")"
   ]
  },
  {
   "cell_type": "markdown",
   "metadata": {},
   "source": [
    "### 02) WAP to find out the Maximum and Minimum number from given 4 numbers."
   ]
  },
  {
   "cell_type": "code",
   "execution_count": 10,
   "metadata": {},
   "outputs": [
    {
     "name": "stdin",
     "output_type": "stream",
     "text": [
      "Enter the num1 54\n",
      "Enter the num2 65\n",
      "Enter the num3 76\n",
      "Enter the num4 34\n"
     ]
    },
    {
     "name": "stdout",
     "output_type": "stream",
     "text": [
      "Number 3 is maximum 76\n",
      "Number 4 is minimum 34\n"
     ]
    }
   ],
   "source": [
    "num1 = int(input(\"Enter the num1\"))\n",
    "num2 = int(input(\"Enter the num2\"))\n",
    "num3 = int(input(\"Enter the num3\"))\n",
    "num4 = int(input(\"Enter the num4\"))\n",
    "\n",
    "if num1>num2 and num1>num3 and num1>num4:\n",
    "    print(\"Number 1 is maximum\",num1)\n",
    "elif num2>num1 and num2>num3 and num2>num4:\n",
    "    print(\"Number 2 is maximum\",num2)\n",
    "elif num3>num1 and num3>num2 and num3>num4:\n",
    "    print(\"Number 3 is maximum\",num3)\n",
    "elif num4>num1 and num4>num2 and num4>num3:\n",
    "    print(\"Number 4 is maximum\")\n",
    "    \n",
    "if num1<num2 and num1<num3 and num1<num4:\n",
    "    print(\"Number 1 is minimum\",num1)\n",
    "elif num2<num1 and num2<num3 and num2<num4:\n",
    "    print(\"Number 2 is minimum\",num2)\n",
    "elif num3<num1 and num3<num2 and num3<num4:\n",
    "    print(\"Number 3 is minimum\",num3)\n",
    "elif num4<num1 and num4<num2 and num4<num3:\n",
    "    print(\"Number 4 is minimum\",num4)\n",
    "else:\n",
    "    print(\"Error\")"
   ]
  },
  {
   "cell_type": "markdown",
   "metadata": {},
   "source": [
    "### 03) WAP to input an integer number and check the last digit of number is even or odd."
   ]
  },
  {
   "cell_type": "code",
   "execution_count": 1,
   "metadata": {},
   "outputs": [
    {
     "name": "stdin",
     "output_type": "stream",
     "text": [
      "Enter an integer number:  65\n"
     ]
    },
    {
     "name": "stdout",
     "output_type": "stream",
     "text": [
      "The last digit 5 is odd.\n"
     ]
    }
   ],
   "source": [
    "num = int(input(\"Enter an integer number: \"))\n",
    "last_digit = num % 10\n",
    "if last_digit % 2 == 0:\n",
    "    print(f\"The last digit {last_digit} is even.\")\n",
    "else:\n",
    "    print(f\"The last digit {last_digit} is odd.\")"
   ]
  },
  {
   "cell_type": "markdown",
   "metadata": {},
   "source": [
    "### 04) WAP to determine the roots of the equation ax2+bx+c=0."
   ]
  },
  {
   "cell_type": "code",
   "execution_count": 3,
   "metadata": {},
   "outputs": [
    {
     "name": "stdin",
     "output_type": "stream",
     "text": [
      "Enter the value of a:  2\n",
      "Enter the value of b:  3\n",
      "Enter the value of c:  1\n"
     ]
    },
    {
     "name": "stdout",
     "output_type": "stream",
     "text": [
      "Roots: (-0.5, -1.0)\n"
     ]
    }
   ],
   "source": [
    "import math\n",
    "\n",
    "def find_roots(a, b, c):\n",
    "    discriminant = b**2 - 4*a*c\n",
    "    \n",
    "    if discriminant > 0:\n",
    "        root1 = (-b + math.sqrt(discriminant)) / (2*a)\n",
    "        root2 = (-b - math.sqrt(discriminant)) / (2*a)\n",
    "        return root1, root2\n",
    "    elif discriminant == 0:\n",
    "        root = -b / (2*a)\n",
    "        return root,\n",
    "    else:\n",
    "        real_part = -b / (2*a)\n",
    "        imaginary_part = math.sqrt(abs(discriminant)) / (2*a)\n",
    "        root1 = complex(real_part, imaginary_part)\n",
    "        root2 = complex(real_part, -imaginary_part)\n",
    "        return root1, root2\n",
    "\n",
    "a = float(input(\"Enter the value of a: \"))\n",
    "b = float(input(\"Enter the value of b: \"))\n",
    "c = float(input(\"Enter the value of c: \"))\n",
    "\n",
    "roots = find_roots(a, b, c)\n",
    "\n",
    "print(\"Roots:\", roots)"
   ]
  },
  {
   "cell_type": "code",
   "execution_count": null,
   "metadata": {},
   "outputs": [],
   "source": []
  }
 ],
 "metadata": {
  "kernelspec": {
   "display_name": "Python 3 (ipykernel)",
   "language": "python",
   "name": "python3"
  },
  "language_info": {
   "codemirror_mode": {
    "name": "ipython",
    "version": 3
   },
   "file_extension": ".py",
   "mimetype": "text/x-python",
   "name": "python",
   "nbconvert_exporter": "python",
   "pygments_lexer": "ipython3",
   "version": "3.12.1"
  }
 },
 "nbformat": 4,
 "nbformat_minor": 4
}
