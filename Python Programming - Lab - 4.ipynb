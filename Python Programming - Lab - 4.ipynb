{
 "cells": [
  {
   "cell_type": "markdown",
   "metadata": {},
   "source": [
    "\n",
    "<a href='https://www.darshan.ac.in/'> <img src='https://www.darshan.ac.in/Content/media/DU_Logo.svg' width=\"250\" height=\"300\"/></a>\n",
    "<pre>\n",
    "<center><b><h1>Python Programming - 2101CS405</b></center>\n",
    "<center><b><h1>Lab - 4</b></center>    \n",
    "<pre>\n",
    "### Makvana kashish Rohitbhai\n",
    "### 23010101629\n",
    "### 23-january-2024"
   ]
  },
  {
   "cell_type": "markdown",
   "metadata": {},
   "source": [
    "# String"
   ]
  },
  {
   "cell_type": "markdown",
   "metadata": {},
   "source": [
    "### 01) WAP to check given string is palindrome or not."
   ]
  },
  {
   "cell_type": "code",
   "execution_count": 17,
   "metadata": {},
   "outputs": [
    {
     "name": "stdin",
     "output_type": "stream",
     "text": [
      "Enter the string : 12321\n"
     ]
    },
    {
     "name": "stdout",
     "output_type": "stream",
     "text": [
      "string is plaindrom\n"
     ]
    }
   ],
   "source": [
    "s = input('Enter the string :')\n",
    "\n",
    "rev = ''.join(reversed(s))\n",
    "if (s == rev):\n",
    "    print('string is plaindrom')\n",
    "else:\n",
    "    print('string is not palindrom')"
   ]
  },
  {
   "cell_type": "markdown",
   "metadata": {},
   "source": [
    "### 02) WAP to reverse the words in given string."
   ]
  },
  {
   "cell_type": "code",
   "execution_count": 3,
   "metadata": {},
   "outputs": [
    {
     "name": "stdin",
     "output_type": "stream",
     "text": [
      "Enter the string : hello world bye\n"
     ]
    },
    {
     "name": "stdout",
     "output_type": "stream",
     "text": [
      "bye world hello\n"
     ]
    }
   ],
   "source": [
    "input_string = input('Enter the string :')\n",
    "words = input_string.split()\n",
    "reversed_words = words[::-1]\n",
    "reversed_string = ' '.join(reversed_words)\n",
    "print(reversed_string)"
   ]
  },
  {
   "cell_type": "markdown",
   "metadata": {},
   "source": [
    "### 03) WAP to remove ith character from given string"
   ]
  },
  {
   "cell_type": "code",
   "execution_count": 24,
   "metadata": {},
   "outputs": [
    {
     "name": "stdin",
     "output_type": "stream",
     "text": [
      "Enter the string : hello world\n"
     ]
    },
    {
     "name": "stdout",
     "output_type": "stream",
     "text": [
      "Original String is : hello world\n"
     ]
    },
    {
     "name": "stdin",
     "output_type": "stream",
     "text": [
      "Enter the index on which you want remove : 2\n"
     ]
    },
    {
     "name": "stdout",
     "output_type": "stream",
     "text": [
      "helo world\n"
     ]
    }
   ],
   "source": [
    "s = input('Enter the string :')\n",
    "print(f'Original String is : {s}')\n",
    "i = int(input(f'Enter the index on which you want remove :') )\n",
    "ans = list(s)\n",
    "ans.pop(i)\n",
    "Str = \"\".join(ans)\n",
    "print(Str)"
   ]
  },
  {
   "cell_type": "markdown",
   "metadata": {},
   "source": [
    "### 04) WAP to find length of String without using len function."
   ]
  },
  {
   "cell_type": "code",
   "execution_count": 28,
   "metadata": {},
   "outputs": [
    {
     "name": "stdin",
     "output_type": "stream",
     "text": [
      "Enter the string : hello world bye\n"
     ]
    },
    {
     "name": "stdout",
     "output_type": "stream",
     "text": [
      "string length is : 15\n"
     ]
    }
   ],
   "source": [
    "s = input('Enter the string :')\n",
    "count=0\n",
    "for i in s:\n",
    "    count = count+1\n",
    "print('string length is :',count)"
   ]
  },
  {
   "cell_type": "markdown",
   "metadata": {},
   "source": [
    "### 05) WAP to print even length word in string."
   ]
  },
  {
   "cell_type": "code",
   "execution_count": 34,
   "metadata": {},
   "outputs": [
    {
     "name": "stdin",
     "output_type": "stream",
     "text": [
      "Enter the string : a bb ccc dddd\n"
     ]
    },
    {
     "name": "stdout",
     "output_type": "stream",
     "text": [
      "['a', 'bb', 'ccc', 'dddd']\n",
      "bb\n",
      "dddd\n"
     ]
    }
   ],
   "source": [
    "s = input('Enter the string :')\n",
    "ans = s.split()\n",
    "print(ans)\n",
    "for i in ans:\n",
    "    if len(i) % 2 ==0:\n",
    "        print(i)"
   ]
  },
  {
   "cell_type": "markdown",
   "metadata": {},
   "source": [
    "### 06) WAP to count numbers of vowels in given string."
   ]
  },
  {
   "cell_type": "code",
   "execution_count": 69,
   "metadata": {},
   "outputs": [
    {
     "name": "stdin",
     "output_type": "stream",
     "text": [
      "Enter the string : abc\n"
     ]
    },
    {
     "name": "stdout",
     "output_type": "stream",
     "text": [
      "['abc']\n",
      "Number of vowels in the given string is:  1\n"
     ]
    }
   ],
   "source": [
    "s = input('Enter the string :')\n",
    "ans = s.split()\n",
    "print(ans)\n",
    "conut=0\n",
    "vowels=[\"a\", \"e\", \"i\", \"o\", \"u\"]\n",
    "for i in range(len(ans)):\n",
    "    if ans[i] in vowels:\n",
    "        count += 1\n",
    "        print('count of vowel in string',count)\n",
    "\n",
    "count = 0\n",
    "i = 0\n",
    "for i in range(len(s)):\n",
    "    if (\n",
    "        (s[i] == \"a\")\n",
    "        or (s[i] == \"e\")\n",
    "        or (s[i] == \"i\")\n",
    "        or (s[i] == \"o\")\n",
    "        or (s[i] == \"u\")\n",
    "    ):\n",
    "        count += 1\n",
    "\n",
    "print(\"Number of vowels in the given string is: \", count)\n",
    " "
   ]
  },
  {
   "cell_type": "markdown",
   "metadata": {},
   "source": [
    "### 07) WAP to convert given array to string."
   ]
  },
  {
   "cell_type": "code",
   "execution_count": 16,
   "metadata": {},
   "outputs": [
    {
     "name": "stdin",
     "output_type": "stream",
     "text": [
      "Enter the number of elements:  3\n",
      "Enter element in csv formate 1:  23\n",
      "Enter element in csv formate 2:  33\n",
      "Enter element in csv formate 3:  2\n"
     ]
    },
    {
     "name": "stdout",
     "output_type": "stream",
     "text": [
      "Array: ['23', '33', '2']\n",
      "String: 23 33 2\n"
     ]
    }
   ],
   "source": [
    "num_elements = int(input(\"Enter the number of elements: \"))\n",
    "my_array = []\n",
    "for i in range(num_elements):\n",
    "    element = input(f\"Enter element in csv formate {i+1}: \")\n",
    "    my_array.append(element)\n",
    "result_string = ' '.join(my_array)\n",
    "print(\"Array:\", my_array)\n",
    "print(\"String:\", result_string)"
   ]
  },
  {
   "cell_type": "markdown",
   "metadata": {},
   "source": [
    "### 01) WAP to find out duplicate characters in given string."
   ]
  },
  {
   "cell_type": "code",
   "execution_count": 1,
   "metadata": {},
   "outputs": [
    {
     "name": "stdout",
     "output_type": "stream",
     "text": [
      "['e', 'l', 'o', ' ']\n"
     ]
    }
   ],
   "source": [
    "def duplicate_characters(string):\n",
    "    chars = {}\n",
    " \n",
    "    for char in string:\n",
    "        if char not in chars:\n",
    "            chars[char] = 1\n",
    "        else:\n",
    "            chars[char] += 1\n",
    " \n",
    "    duplicates = []\n",
    " \n",
    "    for char, count in chars.items():\n",
    "        if count > 1:\n",
    "            duplicates.append(char)\n",
    " \n",
    "    return duplicates\n",
    " \n",
    "# Test cases\n",
    "print(duplicate_characters(\"helloo world byee\"))"
   ]
  },
  {
   "cell_type": "markdown",
   "metadata": {},
   "source": [
    "### 02) WAP to capitalize the first and last character of each word in a string."
   ]
  },
  {
   "cell_type": "code",
   "execution_count": 9,
   "metadata": {},
   "outputs": [
    {
     "name": "stdout",
     "output_type": "stream",
     "text": [
      "String before: helloo world byee\n",
      "String after: HelloO WorlD ByeE\n"
     ]
    }
   ],
   "source": [
    "s = \"helloo world byee\"\n",
    "print(\"String before:\", s);\n",
    "a = s.split()\n",
    "res = []\n",
    "for i in a:\n",
    "    x = i[0].upper()+i[1:-1]+i[-1].upper()\n",
    "    res.append(x)\n",
    "res = \" \".join(res)\n",
    "print(\"String after:\", res)"
   ]
  },
  {
   "cell_type": "markdown",
   "metadata": {},
   "source": [
    "### 03) WAP to find Maximum frequency character in String."
   ]
  },
  {
   "cell_type": "code",
   "execution_count": 10,
   "metadata": {},
   "outputs": [
    {
     "name": "stdin",
     "output_type": "stream",
     "text": [
      "Please Enter a string:  helloo world byee\n"
     ]
    },
    {
     "name": "stdout",
     "output_type": "stream",
     "text": [
      "e l o "
     ]
    }
   ],
   "source": [
    "string = input(\"Please Enter a string: \")\n",
    "freq_dict = {}\n",
    "for char in string:\n",
    "    if char in freq_dict:\n",
    "        freq_dict[char] += 1\n",
    "    else:\n",
    "        freq_dict[char] = 1\n",
    "max_freq = max(freq_dict.values())\n",
    "for char in freq_dict:\n",
    "    if freq_dict[char] == max_freq:\n",
    "        print(char, end=' ')"
   ]
  },
  {
   "cell_type": "markdown",
   "metadata": {},
   "source": [
    "### 04) WAP to find Minimum frequency character in String."
   ]
  },
  {
   "cell_type": "code",
   "execution_count": 12,
   "metadata": {},
   "outputs": [
    {
     "name": "stdin",
     "output_type": "stream",
     "text": [
      "Please Enter a string:  helloo world byee\n"
     ]
    },
    {
     "name": "stdout",
     "output_type": "stream",
     "text": [
      "h w r d b y "
     ]
    }
   ],
   "source": [
    "string = input(\"Please Enter a string: \")\n",
    "freq_dict = {}\n",
    "for char in string:\n",
    "    if char in freq_dict:\n",
    "        freq_dict[char] += 1\n",
    "    else:\n",
    "        freq_dict[char] = 1\n",
    "min_freq = min(freq_dict.values())\n",
    "for char in freq_dict:\n",
    "    if freq_dict[char] == min_freq:\n",
    "        print(char, end=' ')"
   ]
  },
  {
   "cell_type": "markdown",
   "metadata": {},
   "source": [
    "### 05) WAP to check if a given string is binary string or not"
   ]
  },
  {
   "cell_type": "code",
   "execution_count": 13,
   "metadata": {},
   "outputs": [
    {
     "name": "stdin",
     "output_type": "stream",
     "text": [
      "Enter the binary string :  101010111\n"
     ]
    },
    {
     "name": "stdout",
     "output_type": "stream",
     "text": [
      "The String is binary string\n"
     ]
    }
   ],
   "source": [
    "myStr =  input('Enter the binary string : ')\n",
    "\n",
    "flag = True\n",
    "for char in myStr :\n",
    "    if(char == '0' or char == '1'):\n",
    "       continue \n",
    "    else :\n",
    "        flag = False\n",
    "        print(\"The String is not a binary string\")\n",
    "        break\n",
    "    \n",
    "if(flag):\n",
    "    print(\"The String is binary string\")"
   ]
  },
  {
   "cell_type": "code",
   "execution_count": null,
   "metadata": {},
   "outputs": [],
   "source": []
  }
 ],
 "metadata": {
  "kernelspec": {
   "display_name": "Python 3 (ipykernel)",
   "language": "python",
   "name": "python3"
  },
  "language_info": {
   "codemirror_mode": {
    "name": "ipython",
    "version": 3
   },
   "file_extension": ".py",
   "mimetype": "text/x-python",
   "name": "python",
   "nbconvert_exporter": "python",
   "pygments_lexer": "ipython3",
   "version": "3.12.1"
  },
  "vscode": {
   "interpreter": {
    "hash": "31f2aee4e71d21fbe5cf8b01ff0e069b9275f58929596ceb00d14d90e3e16cd6"
   }
  }
 },
 "nbformat": 4,
 "nbformat_minor": 4
}
