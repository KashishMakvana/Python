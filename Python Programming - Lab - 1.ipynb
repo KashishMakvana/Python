{
 "cells": [
  {
   "cell_type": "markdown",
   "metadata": {},
   "source": [
    "<a href='https://www.darshan.ac.in/'> <img src='https://www.darshan.ac.in/Content/media/DU_Logo.svg' width=\"250\" height=\"300\"/></a>\n",
    "<pre>\n",
    "<center><b><h1>Python Programming - 2101CS405</b></center>\n",
    "<center><b><h1>Lab - 1</b></center>    \n",
    "<pre>\n",
    "### Makvana Kashish Rohitbhai\n",
    "### 23010101629\n",
    "### 02-january-2024"
   ]
  },
  {
   "cell_type": "markdown",
   "metadata": {},
   "source": [
    "### 01) WAP to print “Hello World”"
   ]
  },
  {
   "cell_type": "code",
   "execution_count": 1,
   "metadata": {},
   "outputs": [
    {
     "name": "stdout",
     "output_type": "stream",
     "text": [
      "Hello World\n"
     ]
    }
   ],
   "source": [
    "print(\"Hello World\")"
   ]
  },
  {
   "cell_type": "markdown",
   "metadata": {},
   "source": [
    "### 02) WAP to print your address i) using single print ii) using multiple print"
   ]
  },
  {
   "cell_type": "code",
   "execution_count": 2,
   "metadata": {},
   "outputs": [
    {
     "name": "stdout",
     "output_type": "stream",
     "text": [
      "XYZ block,Morbi Road Rajkot\n",
      "M.G road,near xyz School Morbi road,hadala\n"
     ]
    }
   ],
   "source": [
    "print(\"XYZ block,Morbi Road Rajkot\")\n",
    "print(f\"M.G road,near xyz School\",end=\" \")\n",
    "print(\"Morbi road,hadala\")"
   ]
  },
  {
   "cell_type": "markdown",
   "metadata": {},
   "source": [
    "### 03) WAP to print addition of 2 numbers (without input function)"
   ]
  },
  {
   "cell_type": "code",
   "execution_count": 4,
   "metadata": {},
   "outputs": [
    {
     "name": "stdout",
     "output_type": "stream",
     "text": [
      "Addtion of a and b is30\n"
     ]
    }
   ],
   "source": [
    "a=10\n",
    "b=20\n",
    "print(f\"Addtion of a and b is{a+b}\")"
   ]
  },
  {
   "cell_type": "markdown",
   "metadata": {},
   "source": [
    "### 04) WAP to calculate and print average of 2 numbers (without input function)"
   ]
  },
  {
   "cell_type": "code",
   "execution_count": 7,
   "metadata": {},
   "outputs": [
    {
     "name": "stdout",
     "output_type": "stream",
     "text": [
      "Addtion of a and b is20 and Average of a and b is 15.0\n"
     ]
    }
   ],
   "source": [
    "a=10\n",
    "b=10\n",
    "print(f\"Addtion of a and b is{a+b} and Average of a and b is {a+b/2}\" )"
   ]
  },
  {
   "cell_type": "markdown",
   "metadata": {},
   "source": [
    "### 05) WAP to add two number entered by user."
   ]
  },
  {
   "cell_type": "code",
   "execution_count": 13,
   "metadata": {},
   "outputs": [
    {
     "name": "stdout",
     "output_type": "stream",
     "text": [
      "Enter the Number 1: 5\n",
      "Enter the Number 2: 5\n"
     ]
    },
    {
     "name": "stdout",
     "output_type": "stream",
     "text": [
      "Addtion is: 10\n"
     ]
    }
   ],
   "source": [
    "a=int(input(\"Enter the Number 1:\"))\n",
    "b=int(input(\"Enter the Number 2:\"))\n",
    "print(f\"Addtion is: {a+b}\")"
   ]
  },
  {
   "cell_type": "markdown",
   "metadata": {},
   "source": [
    "### 06) WAP to calculate simple interest."
   ]
  },
  {
   "cell_type": "code",
   "execution_count": 14,
   "metadata": {},
   "outputs": [
    {
     "name": "stdout",
     "output_type": "stream",
     "text": [
      "Interest is: 30.0\n"
     ]
    }
   ],
   "source": [
    "p=20\n",
    "r=3\n",
    "n=50\n",
    "i=p*r*n/100\n",
    "print(f\"Interest is: {i}\")"
   ]
  },
  {
   "cell_type": "markdown",
   "metadata": {},
   "source": [
    "### 07) WAP Calculate Area and Circumfrence of Circle"
   ]
  },
  {
   "cell_type": "code",
   "execution_count": 11,
   "metadata": {},
   "outputs": [
    {
     "name": "stdout",
     "output_type": "stream",
     "text": [
      "Area of Circle is : 12.56\n",
      "Circumfrence of Circle is : 25.12\n"
     ]
    }
   ],
   "source": [
    "pi=3.14\n",
    "r=2\n",
    "AreaOfCircle = pi*r*r\n",
    "print(f\"Area of Circle is : {AreaOfCircle}\")\n",
    "CircumfrenceOfCircle = pi*r*r*r\n",
    "print(f\"Circumfrence of Circle is : {CircumfrenceOfCircle}\")"
   ]
  },
  {
   "cell_type": "markdown",
   "metadata": {},
   "source": [
    "### 08) WAP to print Multiplication table of given number without using loops."
   ]
  },
  {
   "cell_type": "code",
   "execution_count": 17,
   "metadata": {},
   "outputs": [
    {
     "name": "stdout",
     "output_type": "stream",
     "text": [
      "Enter the Number : 5\n"
     ]
    },
    {
     "name": "stdout",
     "output_type": "stream",
     "text": [
      "number*1 : 5\n",
      "number*2 : 10\n",
      "number*3 : 15\n",
      "number*4 : 20\n",
      "number*5 : 25\n",
      "number*6 : 30\n",
      "number*7 : 35\n",
      "number*8 : 40\n",
      "number*9 : 45\n",
      "number*10 : 50\n"
     ]
    }
   ],
   "source": [
    "number=int(input(\"Enter the Number :\"))\n",
    "print(f\"number*1 : {number*1}\")\n",
    "print(f\"number*2 : {number*2}\")\n",
    "print(f\"number*3 : {number*3}\")\n",
    "print(f\"number*4 : {number*4}\")\n",
    "print(f\"number*5 : {number*5}\")\n",
    "print(f\"number*6 : {number*6}\")\n",
    "print(f\"number*7 : {number*7}\")\n",
    "print(f\"number*8 : {number*8}\")\n",
    "print(f\"number*9 : {number*9}\")\n",
    "print(f\"number*10 : {number*10}\")\n"
   ]
  },
  {
   "cell_type": "markdown",
   "metadata": {},
   "source": [
    "### 09) WAP to calculate Area of Triangle (hint: a = h * b * 0.5)"
   ]
  },
  {
   "cell_type": "code",
   "execution_count": 15,
   "metadata": {},
   "outputs": [
    {
     "name": "stdout",
     "output_type": "stream",
     "text": [
      "Area of Tringle is : 729\n"
     ]
    }
   ],
   "source": [
    "l=9\n",
    "Area = l*l*l\n",
    "print(f\"Area of Tringle is : {Area}\")"
   ]
  },
  {
   "cell_type": "markdown",
   "metadata": {},
   "source": [
    "### 10) WAP to convert degree to Fahrenheit and vice versa."
   ]
  },
  {
   "cell_type": "code",
   "execution_count": 4,
   "metadata": {},
   "outputs": [
    {
     "name": "stdin",
     "output_type": "stream",
     "text": [
      "Temperature value in degree Celsius:  34\n"
     ]
    },
    {
     "name": "stdout",
     "output_type": "stream",
     "text": [
      "The 34.0 of degree Celsius is equal to: 93.2 Fahrenheit\n"
     ]
    }
   ],
   "source": [
    "degree_celsius = float(input(\"Temperature value in degree Celsius: \"))  \n",
    "Fahrenheit = (degree_celsius * 9/5) + 32   \n",
    "print (f'The {degree_celsius} of degree Celsius is equal to: {Fahrenheit} Fahrenheit')"
   ]
  },
  {
   "cell_type": "markdown",
   "metadata": {},
   "source": [
    "### 11) WAP to calculate total marks and Percentage."
   ]
  },
  {
   "cell_type": "code",
   "execution_count": 3,
   "metadata": {},
   "outputs": [
    {
     "name": "stdout",
     "output_type": "stream",
     "text": [
      "Total of Marks: 100\n",
      "Percentage of Marks: 33.333333333333336\n"
     ]
    }
   ],
   "source": [
    "mark1=50\n",
    "mark2=20\n",
    "mark3=30\n",
    "Total = mark1+mark2+mark3\n",
    "print(f\"Total of Marks: {Total}\");\n",
    "Percentage = Total/3\n",
    "print(f\"Percentage of Marks: {Percentage}\");\n"
   ]
  },
  {
   "cell_type": "markdown",
   "metadata": {},
   "source": [
    "### 12) Compute distance between two points taking input from the user (Pythagorean Theorem)."
   ]
  },
  {
   "cell_type": "code",
   "execution_count": 6,
   "metadata": {},
   "outputs": [
    {
     "name": "stdin",
     "output_type": "stream",
     "text": [
      "Enter x1:  4\n",
      "Enter y1:  6\n",
      "Enter x2:  2\n",
      "Enter y2:  4\n"
     ]
    },
    {
     "name": "stdout",
     "output_type": "stream",
     "text": [
      "Distance = 2.828427\n"
     ]
    }
   ],
   "source": [
    "x1 = float(input('Enter x1: '))\n",
    "y1 = float(input('Enter y1: '))\n",
    "x2 = float(input('Enter x2: '))\n",
    "y2 = float(input('Enter y2: '))\n",
    "d = ( (x2-x1)**2 + (y2-y1)**2 ) ** 0.5\n",
    "print('Distance = %f' %(d))"
   ]
  },
  {
   "cell_type": "markdown",
   "metadata": {},
   "source": [
    "### 13) WAP to convert seconds into hours, minutes & seconds and print in HH:MM:SS\n",
    "[e.g. 10000 seconds mean 2:46:40 (2 Hours, 46 Minutes, 40Seconds)]"
   ]
  },
  {
   "cell_type": "code",
   "execution_count": 1,
   "metadata": {},
   "outputs": [
    {
     "name": "stdin",
     "output_type": "stream",
     "text": [
      "Enter the total seconds:  234598\n"
     ]
    },
    {
     "name": "stdout",
     "output_type": "stream",
     "text": [
      "The converted time is: 65:09:58\n"
     ]
    }
   ],
   "source": [
    "def convert_seconds_to_hms(seconds):\n",
    "    hours = seconds // 3600\n",
    "    minutes = (seconds % 3600) // 60\n",
    "    remaining_seconds = seconds % 60\n",
    "\n",
    "    time_formatted = \"{:02}:{:02}:{:02}\".format(int(hours), int(minutes), int(remaining_seconds))\n",
    "    \n",
    "    return time_formatted\n",
    "\n",
    "input_seconds = int(input(\"Enter the total seconds: \"))\n",
    "result = convert_seconds_to_hms(input_seconds)\n",
    "print(\"The converted time is:\", result)\n"
   ]
  },
  {
   "cell_type": "markdown",
   "metadata": {},
   "source": [
    "### 14) WAP to enter distance into kilometer and convert it into meter, feet,inches, and centimeter"
   ]
  },
  {
   "cell_type": "code",
   "execution_count": 2,
   "metadata": {},
   "outputs": [
    {
     "name": "stdin",
     "output_type": "stream",
     "text": [
      "Enter the Distence In Kilometer.. 24\n"
     ]
    },
    {
     "name": "stdout",
     "output_type": "stream",
     "text": [
      "Distence In Meter : 24000\n",
      "Distence In feet : 78740.16\n",
      "Distence In inches : 944881.92\n",
      "Distence Incentimeter : 944881.92\n"
     ]
    }
   ],
   "source": [
    "km = int(input(\"Enter the Distence In Kilometer..\"))\n",
    "meter = km*1000;\n",
    "print(\"Distence In Meter :\",meter)\n",
    "feet = meter*3.28084\n",
    "print(\"Distence In feet :\",feet)\n",
    "inches = feet*12\n",
    "print(\"Distence In inches :\",inches)\n",
    "centimeter = meter*100\n",
    "print(\"Distence Incentimeter :\",inches)"
   ]
  },
  {
   "cell_type": "code",
   "execution_count": null,
   "metadata": {},
   "outputs": [],
   "source": []
  }
 ],
 "metadata": {
  "kernelspec": {
   "display_name": "Python 3 (ipykernel)",
   "language": "python",
   "name": "python3"
  },
  "language_info": {
   "codemirror_mode": {
    "name": "ipython",
    "version": 3
   },
   "file_extension": ".py",
   "mimetype": "text/x-python",
   "name": "python",
   "nbconvert_exporter": "python",
   "pygments_lexer": "ipython3",
   "version": "3.12.1"
  },
  "vscode": {
   "interpreter": {
    "hash": "31f2aee4e71d21fbe5cf8b01ff0e069b9275f58929596ceb00d14d90e3e16cd6"
   }
  }
 },
 "nbformat": 4,
 "nbformat_minor": 4
}
