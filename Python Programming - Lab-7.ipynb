{
 "cells": [
  {
   "cell_type": "markdown",
   "metadata": {
    "id": "SPoD_ceReiT1"
   },
   "source": [
    "<a href='https://www.darshan.ac.in/'> <img src='https://www.darshan.ac.in/Content/media/DU_Logo.svg' width=\"250\" height=\"300\"/></a>\n",
    "<pre>\n",
    "<center><b><h1>Python Programming - 2101CS405</b></center>\n",
    "<center><b><h1>Lab - 7</b></center>    \n",
    "<pre>\n",
    "\n",
    "### Makvana kashish Rohitbhai\n",
    "### 23010101629\n",
    "### 20-February-2024"
   ]
  },
  {
   "cell_type": "markdown",
   "metadata": {
    "id": "UqpqbpZEeiT4"
   },
   "source": [
    "# Functions"
   ]
  },
  {
   "cell_type": "code",
   "execution_count": null,
   "metadata": {},
   "outputs": [],
   "source": [
    "# will throw an error\n",
    "## UnboundLocalError: local variable 'a' referenced before assignment\n",
    "a = 15\n",
    "def change():\n",
    "    a = a + 5\n",
    "    print(a) \n",
    "change()"
   ]
  },
  {
   "cell_type": "code",
   "execution_count": 4,
   "metadata": {},
   "outputs": [
    {
     "name": "stdout",
     "output_type": "stream",
     "text": [
      "20\n"
     ]
    }
   ],
   "source": [
    "# when to use global\n",
    "a = 15\n",
    "def change():\n",
    "    global a\n",
    "    a = a + 5\n",
    "    print(a) \n",
    "change()"
   ]
  },
  {
   "cell_type": "markdown",
   "metadata": {
    "id": "q3sib5cSeiT5"
   },
   "source": [
    "### 01) WAP to count simple interest using function."
   ]
  },
  {
   "cell_type": "markdown",
   "metadata": {
    "id": "_xUNh9ppem9g"
   },
   "source": [
    "# SI =( principle(amount) * rate of interest * time )/ 100"
   ]
  },
  {
   "cell_type": "code",
   "execution_count": 3,
   "metadata": {
    "colab": {
     "base_uri": "https://localhost:8080/"
    },
    "executionInfo": {
     "elapsed": 13031,
     "status": "ok",
     "timestamp": 1706267778231,
     "user": {
      "displayName": "Tej Patel",
      "userId": "04032777318747107215"
     },
     "user_tz": -330
    },
    "id": "W9GVhnjIeiT5",
    "outputId": "3e96c306-2add-47a8-b96e-657d73467886"
   },
   "outputs": [
    {
     "name": "stdin",
     "output_type": "stream",
     "text": [
      "Enter Principle: 50000\n",
      "Enter the Rate: 2\n",
      "Enter the time 3\n"
     ]
    },
    {
     "name": "stdout",
     "output_type": "stream",
     "text": [
      "Simple Interest is : 3000.0\n"
     ]
    }
   ],
   "source": [
    "Principle = int(input(\"Enter Principle:\"))\n",
    "Rate = int(input(\"Enter the Rate:\"))\n",
    "Time = int(input(\"Enter the time\"))\n",
    "\n",
    "def interestCalc():\n",
    "    global Principle,Rate,Time\n",
    "    i = (Principle * Rate * Time)/100\n",
    "    print(\"Simple Interest is :\",i)\n",
    "interestCalc();       "
   ]
  },
  {
   "cell_type": "markdown",
   "metadata": {
    "id": "tE0vZRZdeiT6"
   },
   "source": [
    "### 02) WAP that defines a function to add first n numbers."
   ]
  },
  {
   "cell_type": "code",
   "execution_count": 9,
   "metadata": {
    "colab": {
     "base_uri": "https://localhost:8080/"
    },
    "executionInfo": {
     "elapsed": 2459,
     "status": "ok",
     "timestamp": 1706268095305,
     "user": {
      "displayName": "Tej Patel",
      "userId": "04032777318747107215"
     },
     "user_tz": -330
    },
    "id": "Vsrn_objeiT6",
    "outputId": "921291b9-afab-4c58-a622-5895c1cdb7ff"
   },
   "outputs": [
    {
     "name": "stdin",
     "output_type": "stream",
     "text": [
      "Enter Number: 6\n"
     ]
    },
    {
     "name": "stdout",
     "output_type": "stream",
     "text": [
      "Sum of number is: 21\n"
     ]
    }
   ],
   "source": [
    "n = int(input(\"Enter Number:\"))\n",
    "sum=0\n",
    "def sumOfNum():\n",
    "    global n,sum\n",
    "    for i in range(1,n+1):\n",
    "        sum = sum+i;\n",
    "    print(\"Sum of number is:\",sum)\n",
    "sumOfNum();"
   ]
  },
  {
   "cell_type": "markdown",
   "metadata": {
    "id": "CS0YQzxyeiT6"
   },
   "source": [
    "### 03) WAP to find maximum number from given two numbers using function."
   ]
  },
  {
   "cell_type": "code",
   "execution_count": 14,
   "metadata": {
    "executionInfo": {
     "elapsed": 448,
     "status": "ok",
     "timestamp": 1706268076097,
     "user": {
      "displayName": "Tej Patel",
      "userId": "04032777318747107215"
     },
     "user_tz": -330
    },
    "id": "zlo56PLZeiT6"
   },
   "outputs": [
    {
     "name": "stdin",
     "output_type": "stream",
     "text": [
      "Enter the value of num1: 44\n",
      "Enter the value of num2: 55\n"
     ]
    },
    {
     "name": "stdout",
     "output_type": "stream",
     "text": [
      "Maximum is Number2 : 55\n"
     ]
    }
   ],
   "source": [
    "num1 = int(input(\"Enter the value of num1:\"))\n",
    "num2 = int(input(\"Enter the value of num2:\"))\n",
    "def maxOfTwo():\n",
    "    global num1,num2\n",
    "    if(num1>num2):\n",
    "        print(\"Maximum is Number1:\",num1)\n",
    "    else:\n",
    "        print(\"Maximum is Number2 :\",num2)\n",
    "maxOfTwo();"
   ]
  },
  {
   "cell_type": "markdown",
   "metadata": {
    "id": "7AaoGClieiT7"
   },
   "source": [
    "### 04) WAP that defines a function which returns 1 if the number is prime otherwise return 0."
   ]
  },
  {
   "cell_type": "code",
   "execution_count": 34,
   "metadata": {
    "colab": {
     "base_uri": "https://localhost:8080/"
    },
    "executionInfo": {
     "elapsed": 1388,
     "status": "ok",
     "timestamp": 1706269570666,
     "user": {
      "displayName": "Tej Patel",
      "userId": "04032777318747107215"
     },
     "user_tz": -330
    },
    "id": "dbUnipZieiT7",
    "outputId": "49ebc139-27c4-413c-9645-beaa283ff670"
   },
   "outputs": [
    {
     "name": "stdin",
     "output_type": "stream",
     "text": [
      "Enter Number: 9973\n"
     ]
    },
    {
     "name": "stdout",
     "output_type": "stream",
     "text": [
      "Return 1\n"
     ]
    }
   ],
   "source": [
    "number = int(input(\"Enter Number:\"))\n",
    "def prime():\n",
    "    global n;\n",
    "    for i in range(2,number+1):\n",
    "        if(number%i==0):\n",
    "            #prime number\n",
    "             print(\"Return 0\")\n",
    "             return 1\n",
    "        else:\n",
    "            #not prime numebr\n",
    "             print(\"Return 1\")\n",
    "             return 0\n",
    "prime();"
   ]
  },
  {
   "cell_type": "markdown",
   "metadata": {},
   "source": [
    "<h2> optional task : optimization</h2>\n",
    "complete basic task first then try to optimize"
   ]
  },
  {
   "cell_type": "code",
   "execution_count": 1,
   "metadata": {},
   "outputs": [
    {
     "name": "stdout",
     "output_type": "stream",
     "text": [
      "        * \n",
      "      * * \n",
      "    * * * \n",
      "  * * * * \n",
      "* * * * * \n",
      "Total Iterations :  30\n"
     ]
    }
   ],
   "source": [
    "# Example on how iterations are calculated\n",
    "# Only iteration in loops are counted\n",
    "iteration_count= 0\n",
    "n = 5\n",
    "for i in range(n):\n",
    "    iteration_count += 1\n",
    "    \n",
    "    for j in range(n-i-1):\n",
    "        iteration_count += 1\n",
    "        print(\" \", end = \" \")\n",
    "    for j in range(i+1):\n",
    "        iteration_count += 1\n",
    "        print(\"*\", end = \" \")\n",
    "    print()\n",
    "print(\"Total Iterations : \", iteration_count)"
   ]
  },
  {
   "cell_type": "code",
   "execution_count": 20,
   "metadata": {
    "colab": {
     "base_uri": "https://localhost:8080/"
    },
    "executionInfo": {
     "elapsed": 500,
     "status": "ok",
     "timestamp": 1706269613131,
     "user": {
      "displayName": "Tej Patel",
      "userId": "04032777318747107215"
     },
     "user_tz": -330
    },
    "id": "5fjH6SJjiJVE",
    "outputId": "caabfe33-c385-4056-ad0d-f6e3d7e9f6b6"
   },
   "outputs": [
    {
     "name": "stdout",
     "output_type": "stream",
     "text": [
      "Enter Number :  9973\n",
      "No. of iteration :  16\n",
      "1\n"
     ]
    }
   ],
   "source": []
  },
  {
   "cell_type": "markdown",
   "metadata": {
    "id": "oPj8eEN7eiT7"
   },
   "source": [
    "### 05) Write a function called primes that takes an integer value as an argument and returns a list of all prime numbers up to that number."
   ]
  },
  {
   "cell_type": "code",
   "execution_count": 45,
   "metadata": {
    "colab": {
     "base_uri": "https://localhost:8080/"
    },
    "executionInfo": {
     "elapsed": 3432,
     "status": "ok",
     "timestamp": 1706272524988,
     "user": {
      "displayName": "Tej Patel",
      "userId": "04032777318747107215"
     },
     "user_tz": -330
    },
    "id": "iehHfb8kr84x",
    "outputId": "04864106-0c36-4118-c1ef-ff7d9e04d23b"
   },
   "outputs": [
    {
     "name": "stdout",
     "output_type": "stream",
     "text": [
      "Enter Number : 1000\n",
      "[2, 3, 5, 7, 11, 13, 17, 19, 23, 29, 31, 37, 41, 43, 47, 53, 59, 61, 67, 71, 73, 79, 83, 89, 97, 101, 103, 107, 109, 113, 127, 131, 137, 139, 149, 151, 157, 163, 167, 173, 179, 181, 191, 193, 197, 199, 211, 223, 227, 229, 233, 239, 241, 251, 257, 263, 269, 271, 277, 281, 283, 293, 307, 311, 313, 317, 331, 337, 347, 349, 353, 359, 367, 373, 379, 383, 389, 397, 401, 409, 419, 421, 431, 433, 439, 443, 449, 457, 461, 463, 467, 479, 487, 491, 499, 503, 509, 521, 523, 541, 547, 557, 563, 569, 571, 577, 587, 593, 599, 601, 607, 613, 617, 619, 631, 641, 643, 647, 653, 659, 661, 673, 677, 683, 691, 701, 709, 719, 727, 733, 739, 743, 751, 757, 761, 769, 773, 787, 797, 809, 811, 821, 823, 827, 829, 839, 853, 857, 859, 863, 877, 881, 883, 887, 907, 911, 919, 929, 937, 941, 947, 953, 967, 971, 977, 983, 991, 997]\n",
      "No of primes :  168\n",
      "No. of iteration :  6287\n"
     ]
    }
   ],
   "source": []
  },
  {
   "cell_type": "markdown",
   "metadata": {},
   "source": [
    "<h2> optional task : optimization</h2>\n",
    "if basic task completed then try to optimize"
   ]
  },
  {
   "cell_type": "code",
   "execution_count": 56,
   "metadata": {
    "colab": {
     "base_uri": "https://localhost:8080/"
    },
    "executionInfo": {
     "elapsed": 2906,
     "status": "ok",
     "timestamp": 1706274806898,
     "user": {
      "displayName": "Tej Patel",
      "userId": "04032777318747107215"
     },
     "user_tz": -330
    },
    "id": "JjUrnvXPwVWa",
    "outputId": "89f84fec-65d0-44f1-fa68-534726e7220e"
   },
   "outputs": [
    {
     "name": "stdout",
     "output_type": "stream",
     "text": [
      "Enter Number: 1000\n",
      "[2, 3, 5, 7, 11, 13, 17, 19, 23, 29, 31, 37, 41, 43, 47, 53, 59, 61, 67, 71, 73, 79, 83, 89, 97, 101, 103, 107, 109, 113, 127, 131, 137, 139, 149, 151, 157, 163, 167, 173, 179, 181, 191, 193, 197, 199, 211, 223, 227, 229, 233, 239, 241, 251, 257, 263, 269, 271, 277, 281, 283, 293, 307, 311, 313, 317, 331, 337, 347, 349, 353, 359, 367, 373, 379, 383, 389, 397, 401, 409, 419, 421, 431, 433, 439, 443, 449, 457, 461, 463, 467, 479, 487, 491, 499, 503, 509, 521, 523, 541, 547, 557, 563, 569, 571, 577, 587, 593, 599, 601, 607, 613, 617, 619, 631, 641, 643, 647, 653, 659, 661, 673, 677, 683, 691, 701, 709, 719, 727, 733, 739, 743, 751, 757, 761, 769, 773, 787, 797, 809, 811, 821, 823, 827, 829, 839, 853, 857, 859, 863, 877, 881, 883, 887, 907, 911, 919, 929, 937, 941, 947, 953, 967, 971, 977, 983, 991, 997]\n",
      "No of primes :  168\n",
      "No. of iteration :  1764\n"
     ]
    }
   ],
   "source": []
  },
  {
   "cell_type": "code",
   "execution_count": 55,
   "metadata": {
    "colab": {
     "base_uri": "https://localhost:8080/"
    },
    "executionInfo": {
     "elapsed": 3008,
     "status": "ok",
     "timestamp": 1706274774591,
     "user": {
      "displayName": "Tej Patel",
      "userId": "04032777318747107215"
     },
     "user_tz": -330
    },
    "id": "dA2fNk3I5sUa",
    "outputId": "9c4849d2-be3c-4fc6-d474-c7bbfd2ca385"
   },
   "outputs": [
    {
     "name": "stdout",
     "output_type": "stream",
     "text": [
      "Enter Number: 1000\n",
      "[2, 3, 5, 7, 11, 13, 17, 19, 23, 29, 31, 37, 41, 43, 47, 53, 59, 61, 67, 71, 73, 79, 83, 89, 97, 101, 103, 107, 109, 113, 127, 131, 137, 139, 149, 151, 157, 163, 167, 173, 179, 181, 191, 193, 197, 199, 211, 223, 227, 229, 233, 239, 241, 251, 257, 263, 269, 271, 277, 281, 283, 293, 307, 311, 313, 317, 331, 337, 347, 349, 353, 359, 367, 373, 379, 383, 389, 397, 401, 409, 419, 421, 431, 433, 439, 443, 449, 457, 461, 463, 467, 479, 487, 491, 499, 503, 509, 521, 523, 541, 547, 557, 563, 569, 571, 577, 587, 593, 599, 601, 607, 613, 617, 619, 631, 641, 643, 647, 653, 659, 661, 673, 677, 683, 691, 701, 709, 719, 727, 733, 739, 743, 751, 757, 761, 769, 773, 787, 797, 809, 811, 821, 823, 827, 829, 839, 853, 857, 859, 863, 877, 881, 883, 887, 907, 911, 919, 929, 937, 941, 947, 953, 967, 971, 977, 983, 991, 997]\n",
      "No of primes: 168\n",
      "No. of iteration: 929\n"
     ]
    }
   ],
   "source": []
  },
  {
   "cell_type": "markdown",
   "metadata": {
    "id": "VNUFmkgDeiT8"
   },
   "source": [
    "### 06) WAP to generate Fibonacci series of N given number using function name fibbo. (e.g. 0 1 1 2 3 5 8...)"
   ]
  },
  {
   "cell_type": "markdown",
   "metadata": {
    "id": "dycp5zkoob33"
   },
   "source": [
    "<img src=\"https://www.freecodecamp.org/news/content/images/size/w1000/2022/06/calculate-the-Fibonacci-number-we-have-basic-2-approaches.png\" height=\"600px\" width=\"600px\">"
   ]
  },
  {
   "cell_type": "code",
   "execution_count": 29,
   "metadata": {
    "colab": {
     "base_uri": "https://localhost:8080/"
    },
    "executionInfo": {
     "elapsed": 3062,
     "status": "ok",
     "timestamp": 1706269953723,
     "user": {
      "displayName": "Tej Patel",
      "userId": "04032777318747107215"
     },
     "user_tz": -330
    },
    "id": "MkhS3eE_eiT8",
    "outputId": "9e69cc26-225d-40ca-aab0-b3201e6f8a93"
   },
   "outputs": [
    {
     "name": "stdin",
     "output_type": "stream",
     "text": [
      "enter the number 20\n"
     ]
    },
    {
     "name": "stdout",
     "output_type": "stream",
     "text": [
      "0\n",
      "1\n",
      "1\n",
      "2\n",
      "3\n",
      "5\n",
      "8\n",
      "13\n",
      "21\n",
      "34\n",
      "55\n",
      "89\n",
      "144\n",
      "233\n",
      "377\n",
      "610\n",
      "987\n",
      "1597\n",
      "2584\n",
      "4181\n",
      "6765\n"
     ]
    }
   ],
   "source": [
    "def fibo():\n",
    "    n=int(input(\"enter the number\"))\n",
    "    a = 0\n",
    "    b = 1\n",
    "    print(a)\n",
    "    print(b)    \n",
    "    for x in range(1,n):\n",
    "         c = a + b\n",
    "         print(c)\n",
    "         a,b=b,c\n",
    "fibo();"
   ]
  },
  {
   "cell_type": "markdown",
   "metadata": {
    "id": "tNM173u-eiT8"
   },
   "source": [
    "### 07) WAP to find the factorial of a given number using recursion."
   ]
  },
  {
   "cell_type": "code",
   "execution_count": 30,
   "metadata": {
    "executionInfo": {
     "elapsed": 509,
     "status": "ok",
     "timestamp": 1706274925498,
     "user": {
      "displayName": "Tej Patel",
      "userId": "04032777318747107215"
     },
     "user_tz": -330
    },
    "id": "NA7X_-HTeiT8"
   },
   "outputs": [
    {
     "name": "stdin",
     "output_type": "stream",
     "text": [
      "Enter the number: 5\n"
     ]
    },
    {
     "name": "stdout",
     "output_type": "stream",
     "text": [
      "The factorial of 5 is 120\n"
     ]
    }
   ],
   "source": [
    "def recur_factorial(n):\n",
    "   if n == 1:\n",
    "       return n\n",
    "   else:\n",
    "       return n*recur_factorial(n-1)\n",
    "num = int(input(\"Enter the number:\"))\n",
    "if num < 0:\n",
    "   print(\"Sorry, factorial does not exist for negative numbers\")\n",
    "elif num == 0:\n",
    "   print(\"The factorial of 0 is 1\")\n",
    "else:\n",
    "   print(\"The factorial of\", num, \"is\", recur_factorial(num))\n"
   ]
  },
  {
   "cell_type": "markdown",
   "metadata": {
    "id": "Hvo07_GIeiT8"
   },
   "source": [
    "### 08) WAP to implement simple calculator using lamda function."
   ]
  },
  {
   "cell_type": "code",
   "execution_count": 2,
   "metadata": {
    "id": "7bGhIdZyeiT9"
   },
   "outputs": [
    {
     "name": "stdout",
     "output_type": "stream",
     "text": [
      "Simple Calculator\n",
      "Operations:\n",
      "+ for addition\n",
      "- for subtraction\n",
      "* for multiplication\n",
      "/ for division\n"
     ]
    },
    {
     "name": "stdin",
     "output_type": "stream",
     "text": [
      "Enter operator:  *\n",
      "Enter first number:  4\n",
      "Enter second number:  7\n"
     ]
    },
    {
     "name": "stdout",
     "output_type": "stream",
     "text": [
      "Result: 28.0\n"
     ]
    }
   ],
   "source": [
    "add = lambda x, y: x + y\n",
    "subtract = lambda x, y: x - y\n",
    "multiply = lambda x, y: x * y\n",
    "divide = lambda x, y: x / y if y != 0 else \"Error: Division by zero\"\n",
    "\n",
    "def calculate(operator, x, y):\n",
    "    if operator == '+':\n",
    "        return add(x, y)\n",
    "    elif operator == '-':\n",
    "        return subtract(x, y)\n",
    "    elif operator == '*':\n",
    "        return multiply(x, y)\n",
    "    elif operator == '/':\n",
    "        return divide(x, y)\n",
    "    else:\n",
    "        return \"Error: Invalid operator\"\n",
    "\n",
    "def calculator():\n",
    "    print(\"Simple Calculator\")\n",
    "    print(\"Operations:\")\n",
    "    print(\"+ for addition\")\n",
    "    print(\"- for subtraction\")\n",
    "    print(\"* for multiplication\")\n",
    "    print(\"/ for division\")\n",
    "\n",
    "    operator = input(\"Enter operator: \")\n",
    "    num1 = float(input(\"Enter first number: \"))\n",
    "    num2 = float(input(\"Enter second number: \"))\n",
    "\n",
    "    result = calculate(operator, num1, num2)\n",
    "    print(\"Result:\", result)\n",
    "\n",
    "calculator()"
   ]
  },
  {
   "cell_type": "markdown",
   "metadata": {
    "id": "uDWxOJP0eiT9"
   },
   "source": [
    "### 09)Write a Python program that accepts a hyphen-separated sequence of words as input and prints the words in a hyphen-separated sequence after sorting them alphabetically\n",
    "Sample Items : green-red-yellow-black-white <br>\n",
    "Expected Result : black-green-red-white-yellow"
   ]
  },
  {
   "cell_type": "code",
   "execution_count": 10,
   "metadata": {
    "id": "53ECGGEDeiT9"
   },
   "outputs": [
    {
     "name": "stdout",
     "output_type": "stream",
     "text": [
      "Sample Items:,green,red,yellow,black,white\n",
      "Expected Result: black-green-red-white-yellow\n"
     ]
    }
   ],
   "source": [
    "colors = ['green', 'red', 'yellow', 'black', 'white']\n",
    "print(\"Sample Items:\",*colors,sep=',')\n",
    "\n",
    "sorted_colors = sorted(colors)\n",
    "\n",
    "sorted_sequence = '-'.join(sorted_colors)\n",
    "\n",
    "print(\"Expected Result:\", sorted_sequence)"
   ]
  },
  {
   "cell_type": "markdown",
   "metadata": {
    "id": "aw3g6zMReiT9"
   },
   "source": [
    "### 10) Write a python program to implement all function arguments type\n",
    "Positional arguments <Br>\n",
    "Default argument <Br>\n",
    "Keyword arguments (named arguments) <Br>\n",
    "Arbitrary arguments (variable-length arguments args and kwargs)"
   ]
  },
  {
   "cell_type": "code",
   "execution_count": null,
   "metadata": {
    "id": "vWQLyY3feiT9"
   },
   "outputs": [],
   "source": [
    "# Positional argument"
   ]
  },
  {
   "cell_type": "code",
   "execution_count": 58,
   "metadata": {
    "executionInfo": {
     "elapsed": 616,
     "status": "ok",
     "timestamp": 1706275233845,
     "user": {
      "displayName": "Tej Patel",
      "userId": "04032777318747107215"
     },
     "user_tz": -330
    },
    "id": "SHrIzUAgeiT-"
   },
   "outputs": [],
   "source": [
    "# Default argument\n",
    "def defaultArgument (a,b=10) :"
   ]
  },
  {
   "cell_type": "code",
   "execution_count": null,
   "metadata": {
    "id": "V25yOCnE6pFK"
   },
   "outputs": [],
   "source": [
    "# Keyword argument"
   ]
  },
  {
   "cell_type": "code",
   "execution_count": null,
   "metadata": {
    "id": "eV_se_cy6pPy"
   },
   "outputs": [],
   "source": [
    "# Arbitrary arguments awrgs\n",
    "def arbitraryArguments(*b):"
   ]
  },
  {
   "cell_type": "code",
   "execution_count": null,
   "metadata": {
    "id": "vlyhFzmo7Dxw"
   },
   "outputs": [],
   "source": [
    "# Arbitrary arguments kwargs\n",
    "def arbitraryArguments(**b):"
   ]
  },
  {
   "cell_type": "markdown",
   "metadata": {
    "id": "wCmmY35leiT-"
   },
   "source": [
    "### 01) WAP to calculate power of a number using recursion."
   ]
  },
  {
   "cell_type": "code",
   "execution_count": 40,
   "metadata": {
    "id": "mMqjz6pieiT-"
   },
   "outputs": [
    {
     "name": "stdin",
     "output_type": "stream",
     "text": [
      "Enter number: 2\n",
      "enter power 3\n"
     ]
    },
    {
     "name": "stdout",
     "output_type": "stream",
     "text": [
      "8\n"
     ]
    }
   ],
   "source": [
    "def power(num, pow):\n",
    "    if pow == 0:\n",
    "        return 1\n",
    "    return (num*power(num, pow-1))\n",
    "num = int(input(\"Enter number:\"))\n",
    "pow = int(input(\"enter power\"))\n",
    "print(power(num,pow))"
   ]
  },
  {
   "cell_type": "markdown",
   "metadata": {
    "id": "BFPNH7RjeiT-"
   },
   "source": [
    "### 02) WAP to count digits of a number using recursion."
   ]
  },
  {
   "cell_type": "code",
   "execution_count": 11,
   "metadata": {
    "id": "9fcXXE2DeiT-"
   },
   "outputs": [
    {
     "name": "stdin",
     "output_type": "stream",
     "text": [
      "Enter a number:  23456\n"
     ]
    },
    {
     "name": "stdout",
     "output_type": "stream",
     "text": [
      "Number of digits: 5\n"
     ]
    }
   ],
   "source": [
    "def count_digits(number):\n",
    "    if number < 10:\n",
    "        return 1\n",
    "    else:\n",
    "        return 1 + count_digits(number // 10)\n",
    "\n",
    "num = int(input(\"Enter a number: \"))\n",
    "\n",
    "digit_count = count_digits(num)\n",
    "\n",
    "print(\"Number of digits:\", digit_count)"
   ]
  },
  {
   "cell_type": "markdown",
   "metadata": {
    "id": "5NAJC3WCeiT-"
   },
   "source": [
    "### 03) WAP to reverse an integer number using recursion."
   ]
  },
  {
   "cell_type": "code",
   "execution_count": 12,
   "metadata": {
    "id": "ahqG8K85eiT_"
   },
   "outputs": [
    {
     "name": "stdin",
     "output_type": "stream",
     "text": [
      "Enter an integer number:  65986\n"
     ]
    },
    {
     "name": "stdout",
     "output_type": "stream",
     "text": [
      "Reversed number: 68956\n"
     ]
    }
   ],
   "source": [
    "def reverse_number(number):\n",
    "    if number < 10:\n",
    "        return number\n",
    "    else:\n",
    "        last_digit = number % 10\n",
    "        remaining_digits = number // 10\n",
    "        reversed_remaining = reverse_number(remaining_digits)\n",
    "        reversed_number = int(str(last_digit) + str(reversed_remaining))\n",
    "        return reversed_number\n",
    "\n",
    "num = int(input(\"Enter an integer number: \"))\n",
    "\n",
    "reversed_num = reverse_number(num)\n",
    "\n",
    "print(\"Reversed number:\", reversed_num)\n"
   ]
  },
  {
   "cell_type": "markdown",
   "metadata": {
    "id": "aWmK4lQaeiT_"
   },
   "source": [
    "### 04) WAP to convert decimal number into binary using recursion."
   ]
  },
  {
   "cell_type": "markdown",
   "metadata": {
    "id": "ye8jKivs8w-4"
   },
   "source": [
    "<img src=\"https://runestone.academy/ns/books/published/pythonds/_images/dectobin.png\">\n",
    "<img src=\"https://www.tutorialstonight.com/assets/decimal-to-binary-conversion.png\">"
   ]
  },
  {
   "cell_type": "code",
   "execution_count": 13,
   "metadata": {
    "colab": {
     "base_uri": "https://localhost:8080/"
    },
    "executionInfo": {
     "elapsed": 4822,
     "status": "ok",
     "timestamp": 1706275413347,
     "user": {
      "displayName": "Tej Patel",
      "userId": "04032777318747107215"
     },
     "user_tz": -330
    },
    "id": "5OatPXd5eiT_",
    "outputId": "98822d2b-7836-4cb4-9f98-4ad5eabed1e3"
   },
   "outputs": [
    {
     "name": "stdin",
     "output_type": "stream",
     "text": [
      "Enter a decimal number:  42\n"
     ]
    },
    {
     "name": "stdout",
     "output_type": "stream",
     "text": [
      "Binary representation: 101010\n"
     ]
    }
   ],
   "source": [
    "def decimal_to_binary(number):\n",
    "    if number == 0:\n",
    "        return ''\n",
    "    else:\n",
    "        binary_representation = decimal_to_binary(number // 2)\n",
    "        return binary_representation + str(number % 2)\n",
    "\n",
    "decimal_num = int(input(\"Enter a decimal number: \"))\n",
    "\n",
    "binary_num = decimal_to_binary(decimal_num)\n",
    "\n",
    "print(\"Binary representation:\", binary_num)\n"
   ]
  },
  {
   "cell_type": "markdown",
   "metadata": {},
   "source": [
    "\n",
    "# Map , Filter , Reduce"
   ]
  },
  {
   "cell_type": "markdown",
   "metadata": {},
   "source": [
    "### map() function returns a map object(which is an iterator) of the results after applying the given function to each item of a given iterable (list, tuple etc.)"
   ]
  },
  {
   "cell_type": "code",
   "execution_count": 3,
   "metadata": {},
   "outputs": [
    {
     "name": "stdout",
     "output_type": "stream",
     "text": [
      "[1, 4, 9, 16, 25]\n"
     ]
    }
   ],
   "source": [
    "numbers = [1, 2, 3, 4, 5]\n",
    "\n",
    "squared_numbers = list(map(lambda x: x * x, numbers))\n",
    "\n",
    "print(squared_numbers)"
   ]
  },
  {
   "cell_type": "markdown",
   "metadata": {},
   "source": [
    "### The filter() method filters the given sequence with the help of a function that tests each element in the sequence to be true or not."
   ]
  },
  {
   "cell_type": "code",
   "execution_count": 4,
   "metadata": {},
   "outputs": [
    {
     "name": "stdout",
     "output_type": "stream",
     "text": [
      "[1, 3, 5, 13]\n",
      "[0, 2, 8]\n"
     ]
    }
   ],
   "source": [
    "seq = [0, 1, 2, 3, 5, 8, 13]\n",
    " \n",
    "result = filter(lambda x: x % 2 != 0, seq)\n",
    "print(list(result))\n",
    " \n",
    "result = filter(lambda x: x % 2 == 0, seq)\n",
    "print(list(result))"
   ]
  },
  {
   "cell_type": "markdown",
   "metadata": {},
   "source": [
    "### The reduce(fun,seq) function is used to apply a particular function passed in its argument to all of the list elements mentioned in the sequence passed along.This function is defined in “functools” module."
   ]
  },
  {
   "cell_type": "code",
   "execution_count": 5,
   "metadata": {},
   "outputs": [
    {
     "name": "stdout",
     "output_type": "stream",
     "text": [
      "The sum of the list elements is : 17\n",
      "The maximum element of the list is : 6\n"
     ]
    }
   ],
   "source": [
    "import functools \n",
    "\n",
    "lis = [1, 3, 5, 6, 2] \n",
    "\n",
    "print(\"The sum of the list elements is : \", end=\"\") \n",
    "print(functools.reduce(lambda a, b: a+b, lis)) \n",
    "\n",
    "print(\"The maximum element of the list is : \", end=\"\") \n",
    "print(functools.reduce(lambda a, b: a if a > b else b, lis)) \n"
   ]
  }
 ],
 "metadata": {
  "colab": {
   "provenance": []
  },
  "kernelspec": {
   "display_name": "Python 3 (ipykernel)",
   "language": "python",
   "name": "python3"
  },
  "language_info": {
   "codemirror_mode": {
    "name": "ipython",
    "version": 3
   },
   "file_extension": ".py",
   "mimetype": "text/x-python",
   "name": "python",
   "nbconvert_exporter": "python",
   "pygments_lexer": "ipython3",
   "version": "3.12.1"
  }
 },
 "nbformat": 4,
 "nbformat_minor": 4
}
