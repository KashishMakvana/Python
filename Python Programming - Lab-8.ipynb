{
 "cells": [
  {
   "cell_type": "markdown",
   "metadata": {
    "id": "I36ZtkY_TPga"
   },
   "source": [
    "<a href='https://www.darshan.ac.in/'> <img src='https://www.darshan.ac.in/Content/media/DU_Logo.svg' width=\"250\" height=\"300\"/></a>\n",
    "<pre>\n",
    "<center><b><h1>Python Programming - 2101CS405</b></center>\n",
    "<center><b><h1>Lab - 8</b></center>    \n",
    "<pre>"
   ]
  },
  {
   "cell_type": "raw",
   "metadata": {},
   "source": [
    "## Name :: Makvana kashish Rohitbhai\n",
    "## Enrollment :: 23010101629\n",
    "## Date :: 27-February-2024"
   ]
  },
  {
   "cell_type": "markdown",
   "metadata": {
    "id": "xBdreJBkTPgd"
   },
   "source": [
    "# File handling"
   ]
  },
  {
   "cell_type": "markdown",
   "metadata": {},
   "source": [
    "# f= open(\"abc.txt\",\"r\")\n",
    "### open(\" file_path \" , \" permission \") == open given file with given permisson\n",
    "### \"w\" = write mode (which overwrite file)\n",
    "### \"a\" = write mode (which append at end of  file)\n",
    "### \"r\" = read mode\n",
    "\n",
    "# f.readlines()\n",
    "### read() == return whole file in string\n",
    "### readline() == return first line of file\n",
    "### readlines() == return list of all lines \n",
    "\n",
    "# f.close() to close opened file"
   ]
  },
  {
   "cell_type": "markdown",
   "metadata": {},
   "source": [
    "## Simple Example of Character Encoding and Decoding\n",
    "## use this to encode and decode files"
   ]
  },
  {
   "cell_type": "code",
   "execution_count": 1,
   "metadata": {},
   "outputs": [
    {
     "name": "stdout",
     "output_type": "stream",
     "text": [
      "abcdefghijklmnopqrstuvwxyzABCDEFGHIJKLMNOPQRSTUVWXYZ\n",
      "URXjqYOguKkbANeSiZECMQHPIvGzncBVpmwDhadTsxLWJfrloytF\n",
      "abc encoded :  URX\n",
      "xyz encoded :  PIv\n",
      "hello encoded :  gqbbe\n"
     ]
    }
   ],
   "source": [
    "s = \"abcdefghijklmnopqrstuvwxyzABCDEFGHIJKLMNOPQRSTUVWXYZ\"\n",
    "print(s)\n",
    "b = \"URXjqYOguKkbANeSiZECMQHPIvGzncBVpmwDhadTsxLWJfrloytF\"\n",
    "print(b)\n",
    "\n",
    "def encode(word):\n",
    "    x = \"\"\n",
    "    for i in word:\n",
    "        x += b[s.find(i)]\n",
    "    return x\n",
    "        \n",
    "print(\"abc encoded : \",encode(\"abc\"))\n",
    "print(\"xyz encoded : \",encode(\"xyz\"))\n",
    "print(\"hello encoded : \",encode(\"hello\"))"
   ]
  },
  {
   "cell_type": "code",
   "execution_count": 2,
   "metadata": {},
   "outputs": [
    {
     "name": "stdout",
     "output_type": "stream",
     "text": [
      "abcdefghijklmnopqrstuvwxyzABCDEFGHIJKLMNOPQRSTUVWXYZ\n",
      "URXjqYOguKkbANeSiZECMQHPIvGzncBVpmwDhadTsxLWJfrloytF\n",
      "URX decoded :  abc\n",
      "PIv decoded :  xyz\n",
      "gqbbe decoded :  hello\n"
     ]
    }
   ],
   "source": [
    "s = \"abcdefghijklmnopqrstuvwxyzABCDEFGHIJKLMNOPQRSTUVWXYZ\"\n",
    "print(s)\n",
    "b = \"URXjqYOguKkbANeSiZECMQHPIvGzncBVpmwDhadTsxLWJfrloytF\"\n",
    "print(b)\n",
    "\n",
    "def decode(word):\n",
    "    x = \"\"\n",
    "    for i in word:\n",
    "        x += s[b.find(i)]\n",
    "    return x\n",
    "        \n",
    "print(\"URX decoded : \",decode(\"URX\"))\n",
    "print(\"PIv decoded : \",decode(\"PIv\"))\n",
    "print(\"gqbbe decoded : \",decode(\"gqbbe\"))"
   ]
  },
  {
   "cell_type": "markdown",
   "metadata": {
    "id": "A97RmQaYTPgd"
   },
   "source": [
    "# A"
   ]
  },
  {
   "cell_type": "markdown",
   "metadata": {
    "id": "od-WISIcTPge"
   },
   "source": [
    "### 01) WAP to read entire file named abc.txt"
   ]
  },
  {
   "cell_type": "code",
   "execution_count": 3,
   "metadata": {
    "id": "2THz-NwJTPge",
    "outputId": "9012361b-4976-4566-a06d-9f257d079352"
   },
   "outputs": [
    {
     "data": {
      "text/plain": [
       "'Lorem ipsum dolor sit amet, consectetur adipiscing elit, sed do eiusmod tempor incididunt ut labore et dolore magna aliqua.\\nLacinia at quis risus sed vulputate. Ac tortor vitae purus faucibus.\\nSed ullamcorper morbi tincidunt ornare massa eget egestas. Facilisis sed odio morbi quis. \\nVulputate mi sit amet mauris commodo quis imperdiet massa.\\nPurus in massa tempor nec feugiat dolor nisl pretium. Elementum nibh tellus molestie nunc non blandit. \\nPurus ut faucibus pulvinar elementum integer enim neque. Nec nam aliquam sem et tortor dolor consequat id porta. Molestie a iaculis at erat. Maecenas ultricies mi \\neget mauris pharetra. Ut tellus elementum sagittis vitae et leo duis ut. Montes nascetur ridiculus mus mauris vitae ultricies leo integer malesuada. Senectus et \\nnetus et \\nmalesuada. \\nQuis ipsum suspendisse ultrices gravida dictum fusce ut placerat. Nunc sed blandit libero volutpat sed cras ornare arcu.\\n\\n\\n'"
      ]
     },
     "execution_count": 3,
     "metadata": {},
     "output_type": "execute_result"
    }
   ],
   "source": [
    "f = open(\"abc.txt\",\"r\");\n",
    "f.read()"
   ]
  },
  {
   "cell_type": "markdown",
   "metadata": {
    "id": "dw7WR9pyTPgf"
   },
   "source": [
    "### 02) WAP to print program it self on console."
   ]
  },
  {
   "cell_type": "code",
   "execution_count": 4,
   "metadata": {
    "colab": {
     "base_uri": "https://localhost:8080/",
     "height": 192
    },
    "executionInfo": {
     "elapsed": 5,
     "status": "error",
     "timestamp": 1706841915158,
     "user": {
      "displayName": "Tej Patel",
      "userId": "04032777318747107215"
     },
     "user_tz": -330
    },
    "id": "9Lu5xWYGTPgf",
    "outputId": "75fb1079-d9c9-465a-ee43-d57dbf85f143"
   },
   "outputs": [
    {
     "name": "stdout",
     "output_type": "stream",
     "text": [
      "def prime(n):\n",
      "    for i in range(2,100):\n",
      "        if n%i == 0:\n",
      "            return 0\n",
      "    return 1\n"
     ]
    }
   ],
   "source": [
    "f = open(\"prime.txt\",\"r\");\n",
    "print(f.read())\n",
    "f.close();"
   ]
  },
  {
   "cell_type": "markdown",
   "metadata": {
    "id": "TZgCdZrCTPgg"
   },
   "source": [
    "### 03) WAP to read first 5 lines from the file named abc.txt"
   ]
  },
  {
   "cell_type": "code",
   "execution_count": 5,
   "metadata": {
    "id": "PaMKPMlETPgg",
    "outputId": "df4daab5-8a4f-4efb-fc05-d869df22fcb7"
   },
   "outputs": [
    {
     "name": "stdout",
     "output_type": "stream",
     "text": [
      "Lorem ipsum dolor sit amet, consectetur adipiscing elit, sed do eiusmod tempor incididunt ut labore et dolore magna aliqua.\n",
      "\n",
      "Lacinia at quis risus sed vulputate. Ac tortor vitae purus faucibus.\n",
      "\n",
      "Sed ullamcorper morbi tincidunt ornare massa eget egestas. Facilisis sed odio morbi quis. \n",
      "\n",
      "Vulputate mi sit amet mauris commodo quis imperdiet massa.\n",
      "\n",
      "Purus in massa tempor nec feugiat dolor nisl pretium. Elementum nibh tellus molestie nunc non blandit. \n",
      "\n",
      "Purus ut faucibus pulvinar elementum integer enim neque. Nec nam aliquam sem et tortor dolor consequat id porta. Molestie a iaculis at erat. Maecenas ultricies mi \n",
      "\n"
     ]
    }
   ],
   "source": [
    "f = open(\"abc.txt\",\"r\");\n",
    "for l in range(6):\n",
    "         print(f.readline());\n",
    "f.close();"
   ]
  },
  {
   "cell_type": "markdown",
   "metadata": {
    "id": "q-YevoPZTPgg"
   },
   "source": [
    "### 04) WAP to find the longest word in a file named abc.txt"
   ]
  },
  {
   "cell_type": "code",
   "execution_count": 6,
   "metadata": {
    "id": "-nFvgaoRTPgg",
    "outputId": "5e80bbfe-c20a-4ccd-b5f3-7f76e9b5461f"
   },
   "outputs": [
    {
     "name": "stdout",
     "output_type": "stream",
     "text": [
      "consectetur\n"
     ]
    }
   ],
   "source": [
    "l = \" \"\n",
    "f = open(\"abc.txt\",\"r\");\n",
    "for i in f:\n",
    "    words = i.split(\" \");\n",
    "    for w in words:\n",
    "        if(len(w)>len(l)):\n",
    "            l=w;\n",
    "print(l)"
   ]
  },
  {
   "cell_type": "markdown",
   "metadata": {
    "id": "DvMAEtYiTPgh"
   },
   "source": [
    "### 05) WAP to find the size of the file named abc.txt"
   ]
  },
  {
   "cell_type": "code",
   "execution_count": 7,
   "metadata": {
    "id": "qzFSYd-5TPgh",
    "outputId": "f474b5d3-fb48-4fa8-b22d-93c562fe3daf"
   },
   "outputs": [
    {
     "name": "stdout",
     "output_type": "stream",
     "text": [
      "File Size: 930\n"
     ]
    }
   ],
   "source": [
    "import os\n",
    "\n",
    "file_name = \"abc.txt\"\n",
    "\n",
    "file_stats = os.stat(file_name)\n",
    "print(f'File Size: {file_stats.st_size}')"
   ]
  },
  {
   "cell_type": "markdown",
   "metadata": {
    "id": "kJLGBHk1TPgh"
   },
   "source": [
    "### 06) WAP to implement search function to search specific occurance of word in a given text file."
   ]
  },
  {
   "cell_type": "markdown",
   "metadata": {},
   "source": [
    "## find for case sensitive and case insensitive"
   ]
  },
  {
   "cell_type": "code",
   "execution_count": 2,
   "metadata": {
    "id": "tD4lzsmnTPgh",
    "outputId": "6b14f7eb-70e4-4810-fa16-eedfab8d7a56"
   },
   "outputs": [
    {
     "name": "stdout",
     "output_type": "stream",
     "text": [
      "lorem : 1\n",
      "ipsum : 2\n",
      "dolor : 3\n",
      "sit : 2\n",
      "amet, : 1\n",
      "consectetur : 1\n",
      "adipiscing : 1\n",
      "elit, : 1\n",
      "sed : 6\n",
      "do : 1\n",
      "eiusmod : 1\n",
      "tempor : 2\n",
      "incididunt : 1\n",
      "ut : 4\n",
      "labore : 1\n",
      "et : 5\n",
      "dolore : 1\n",
      "magna : 1\n",
      "aliqua. : 1\n",
      "lacinia : 1\n",
      "at : 2\n",
      "quis : 3\n",
      "risus : 1\n",
      "vulputate. : 1\n",
      "ac : 1\n",
      "tortor : 2\n",
      "vitae : 3\n",
      "purus : 3\n",
      "faucibus. : 1\n",
      "ullamcorper : 1\n",
      "morbi : 2\n",
      "tincidunt : 1\n",
      "ornare : 2\n",
      "massa : 2\n",
      "eget : 2\n",
      "egestas. : 1\n",
      "facilisis : 1\n",
      "odio : 1\n",
      "quis. : 1\n",
      "vulputate : 1\n",
      "mi : 2\n",
      "amet : 1\n",
      "mauris : 3\n",
      "commodo : 1\n",
      "imperdiet : 1\n",
      "massa. : 1\n",
      "in : 1\n",
      "nec : 2\n",
      "feugiat : 1\n",
      "nisl : 1\n",
      "pretium. : 1\n",
      "elementum : 3\n",
      "nibh : 1\n",
      "tellus : 2\n",
      "molestie : 2\n",
      "nunc : 2\n",
      "non : 1\n",
      "blandit. : 1\n",
      "faucibus : 1\n",
      "pulvinar : 1\n",
      "integer : 2\n",
      "enim : 1\n",
      "neque. : 1\n",
      "nam : 1\n",
      "aliquam : 1\n",
      "sem : 1\n",
      "consequat : 1\n",
      "id : 1\n",
      "porta. : 1\n",
      "a : 1\n",
      "iaculis : 1\n",
      "erat. : 1\n",
      "maecenas : 1\n",
      "ultricies : 2\n",
      "pharetra. : 1\n",
      "sagittis : 1\n",
      "leo : 2\n",
      "duis : 1\n",
      "ut. : 1\n",
      "montes : 1\n",
      "nascetur : 1\n",
      "ridiculus : 1\n",
      "mus : 1\n",
      "malesuada. : 2\n",
      "senectus : 1\n",
      "netus : 1\n",
      "suspendisse : 1\n",
      "ultrices : 1\n",
      "gravida : 1\n",
      "dictum : 1\n",
      "fusce : 1\n",
      "placerat. : 1\n",
      "blandit : 1\n",
      "libero : 1\n",
      "volutpat : 1\n",
      "cras : 1\n",
      "arcu. : 1\n",
      " : 2\n"
     ]
    }
   ],
   "source": [
    "text = open(\"abc.txt\", \"r\")\n",
    "d = dict()\n",
    "for line in text:\n",
    "    \n",
    "    line = line.strip()\n",
    "    line = line.lower()\n",
    "    words = line.split(\" \")\n",
    "    for word in words:\n",
    "        \n",
    "        if word in d:\n",
    "            d[word] = d[word] + 1\n",
    "        else:\n",
    "            d[word] = 1\n",
    "for key in list(d.keys()):\n",
    "    print(key, \":\", d[key])\n",
    "\n"
   ]
  },
  {
   "cell_type": "code",
   "execution_count": 7,
   "metadata": {},
   "outputs": [
    {
     "name": "stdin",
     "output_type": "stream",
     "text": [
      "Enter the filename:  abc.txt\n",
      "Enter the word to search:  Morbi\n",
      "Enter the occurrence number:  3\n"
     ]
    },
    {
     "name": "stdout",
     "output_type": "stream",
     "text": [
      "Occurrence 3 of 'Morbi' not found.\n"
     ]
    }
   ],
   "source": [
    "def search_word_occurrence(filename, word, occurrence_number):\n",
    "    count = 0\n",
    "    with open(filename, 'r') as file:\n",
    "        for line in file:\n",
    "            for current_word in line.split():\n",
    "                if current_word.lower() == word.lower():\n",
    "                    count += 1\n",
    "                    if count == occurrence_number:\n",
    "                        return line.strip()\n",
    "    return None\n",
    "\n",
    "filename = input(\"Enter the filename: \")\n",
    "word_to_search = input(\"Enter the word to search: \")\n",
    "occurrence_num = int(input(\"Enter the occurrence number: \"))\n",
    "\n",
    "result = search_word_occurrence(filename, word_to_search, occurrence_num)\n",
    "\n",
    "if result:\n",
    "    print(f\"Occurrence {occurrence_num} of '{word_to_search}' found in line: {result}\")\n",
    "else:\n",
    "    print(f\"Occurrence {occurrence_num} of '{word_to_search}' not found.\")\n"
   ]
  },
  {
   "cell_type": "markdown",
   "metadata": {
    "id": "L6REsnDATPgi"
   },
   "source": [
    "# B"
   ]
  },
  {
   "cell_type": "markdown",
   "metadata": {
    "id": "kHJlC4Y6TPgi"
   },
   "source": [
    "### 01) WAP to write first 100 prime numbers to a file named primenumbers.txt\n",
    "(Note: each number should be in new line)"
   ]
  },
  {
   "cell_type": "code",
   "execution_count": 9,
   "metadata": {
    "id": "Exuwt3LUTPgi"
   },
   "outputs": [],
   "source": [
    "def prime(n):\n",
    "    for i in range(2,100):\n",
    "        if n%i == 0:\n",
    "            return 0\n",
    "    return 1"
   ]
  },
  {
   "cell_type": "markdown",
   "metadata": {
    "id": "RiwS7zu9TPgi"
   },
   "source": [
    "### 02) WAP to merge two files and write it in a new file."
   ]
  },
  {
   "cell_type": "code",
   "execution_count": 10,
   "metadata": {
    "id": "mbJst57RTPgi"
   },
   "outputs": [],
   "source": [
    "f1 = open(\"abc.txt\",\"r\")\n",
    "f2 = open(\"file3.txt\",\"r\")\n",
    "file1 = f1.read();\n",
    "file2 = f2.read();\n",
    "f3 = open(\"File_3.txt\",\"w\")\n",
    "f3.write(file1+file2)\n",
    "f1.close();\n",
    "f2.close();\n",
    "f3.close();"
   ]
  },
  {
   "cell_type": "markdown",
   "metadata": {
    "id": "rvUXdk_HTPgj"
   },
   "source": [
    "### 03) WAP to encrypt a text file."
   ]
  },
  {
   "cell_type": "code",
   "execution_count": 3,
   "metadata": {
    "colab": {
     "base_uri": "https://localhost:8080/",
     "height": 290
    },
    "executionInfo": {
     "elapsed": 810346,
     "status": "error",
     "timestamp": 1704252480254,
     "user": {
      "displayName": "Javiya Hit",
      "userId": "07658258706577815819"
     },
     "user_tz": -330
    },
    "id": "VzWMkuX5TPgj",
    "outputId": "0533eb74-4d4d-4001-ac6d-12b4183ff656"
   },
   "outputs": [
    {
     "name": "stdout",
     "output_type": "stream",
     "text": [
      "Enter Key :  23\n"
     ]
    }
   ],
   "source": []
  },
  {
   "cell_type": "markdown",
   "metadata": {
    "id": "tH0WQ_KWTPgj"
   },
   "source": [
    "### 04) WAP to decrypt a previously encrypted file."
   ]
  },
  {
   "cell_type": "code",
   "execution_count": 4,
   "metadata": {
    "id": "xMBZQxZ-TPgj",
    "outputId": "51bd33ea-d1fd-4d8e-c421-8a69fe715e1f"
   },
   "outputs": [
    {
     "name": "stdout",
     "output_type": "stream",
     "text": [
      "Enter Key :  23\n"
     ]
    }
   ],
   "source": []
  },
  {
   "cell_type": "markdown",
   "metadata": {
    "id": "LDiFjfv5TPgj"
   },
   "source": [
    "### 05) WAP to remove a word from text file."
   ]
  },
  {
   "cell_type": "code",
   "execution_count": 11,
   "metadata": {
    "id": "IeL9KPTLTPgk",
    "outputId": "961c121c-c3ac-4fa9-d599-23374dac4292"
   },
   "outputs": [
    {
     "name": "stdin",
     "output_type": "stream",
     "text": [
      "Enter a string:  Lorem\n",
      "Enter a word to delete:  Lorem\n"
     ]
    },
    {
     "name": "stdout",
     "output_type": "stream",
     "text": [
      "String after deletion: \n"
     ]
    }
   ],
   "source": [
    "f1 = open(\"abc.txt\",\"r\")\n",
    "data = input('Enter a word to delete: ')\n",
    "status = False\n",
    "\n",
    "for word in words:\n",
    "    if word == data:\n",
    "        words.remove(word)\n",
    "        status = True\n",
    "\n",
    "if status:\n",
    "    text = ' '.join(words)\n",
    "    print('String after deletion:',text)\n",
    "else:\n",
    "    print('Word not present in string.')"
   ]
  },
  {
   "cell_type": "code",
   "execution_count": null,
   "metadata": {},
   "outputs": [],
   "source": []
  }
 ],
 "metadata": {
  "colab": {
   "provenance": []
  },
  "kernelspec": {
   "display_name": "Python 3 (ipykernel)",
   "language": "python",
   "name": "python3"
  },
  "language_info": {
   "codemirror_mode": {
    "name": "ipython",
    "version": 3
   },
   "file_extension": ".py",
   "mimetype": "text/x-python",
   "name": "python",
   "nbconvert_exporter": "python",
   "pygments_lexer": "ipython3",
   "version": "3.12.1"
  },
  "vscode": {
   "interpreter": {
    "hash": "5238573367df39f7286bb46f9ff5f08f63a01a80960060ce41e3c79b190280fa"
   }
  }
 },
 "nbformat": 4,
 "nbformat_minor": 4
}
