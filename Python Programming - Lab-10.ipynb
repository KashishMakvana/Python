{
 "cells": [
  {
   "cell_type": "markdown",
   "metadata": {
    "id": "sJl9GIC-LMQr"
   },
   "source": [
    "<a href='https://www.darshan.ac.in/'> <img src='https://www.darshan.ac.in/Content/media/DU_Logo.svg' width=\"250\" height=\"300\"/></a>\n",
    "<pre>\n",
    "<center><b><h1>Python Programming - 2101CS405</b></center>\n",
    "<center><b><h1>Lab - 10</b></center>    \n",
    "<pre>\n",
    "###Makvana Kashish Rohitbhai\n",
    "###23010101629\n",
    "###12-march-2024"
   ]
  },
  {
   "cell_type": "markdown",
   "metadata": {
    "id": "AM78boBeLMQw"
   },
   "source": [
    "# Modules"
   ]
  },
  {
   "cell_type": "markdown",
   "metadata": {
    "id": "R0c-Js2uLMQw"
   },
   "source": [
    "# A"
   ]
  },
  {
   "cell_type": "markdown",
   "metadata": {
    "id": "2P1QtyspLMQx"
   },
   "source": [
    "### 01) WAP to create Calculator module which defines functions like add, sub,mul and div. create another file that uses the Calculator module."
   ]
  },
  {
   "cell_type": "code",
   "execution_count": 57,
   "metadata": {
    "id": "c1FSkhnOLMQx"
   },
   "outputs": [
    {
     "name": "stdout",
     "output_type": "stream",
     "text": [
      "30\n",
      "-10\n",
      "200\n",
      "0.5\n",
      "0\n"
     ]
    }
   ],
   "source": [
    "import Calculator as cl\n",
    "cl.calculate(10,20,'+')\n",
    "cl.calculate(10,20,'-')\n",
    "cl.calculate(10,20,'*')\n",
    "cl.calculate(10,20,'/')\n",
    "cl.calculate(10,20,'//')"
   ]
  },
  {
   "cell_type": "markdown",
   "metadata": {
    "id": "5LwBPN6QLMQy"
   },
   "source": [
    "### 02) WAP to Pick a random character from a given String."
   ]
  },
  {
   "cell_type": "code",
   "execution_count": 31,
   "metadata": {
    "colab": {
     "base_uri": "https://localhost:8080/"
    },
    "id": "L5-vtBrNLMQy",
    "outputId": "ff21fb99-295d-4334-c64c-ae87b49a0d7e"
   },
   "outputs": [
    {
     "name": "stdin",
     "output_type": "stream",
     "text": [
      "Enter the String : HelloWorld\n"
     ]
    },
    {
     "name": "stdout",
     "output_type": "stream",
     "text": [
      "Original String :  HelloWorld\n",
      "Random Character :  l\n"
     ]
    }
   ],
   "source": [
    "import random\n",
    "str = input(\"Enter the String :\");\n",
    "print(\"Original String : \",str);\n",
    "print(\"Random Character : \",random.choice(list(str)))"
   ]
  },
  {
   "cell_type": "markdown",
   "metadata": {
    "id": "DnVUJQ7wLMQy"
   },
   "source": [
    "### 03) WAP to Pick a random element from a given list."
   ]
  },
  {
   "cell_type": "code",
   "execution_count": 30,
   "metadata": {
    "colab": {
     "base_uri": "https://localhost:8080/"
    },
    "id": "khm8bc7fLMQz",
    "outputId": "27728b47-ae1a-4bd1-f7de-1e2f0d662e93"
   },
   "outputs": [
    {
     "name": "stdout",
     "output_type": "stream",
     "text": [
      "[1, 2, 3, 4, 5, 6, 7, 8, 9, 10]\n",
      "Random Element From List:  5\n"
     ]
    }
   ],
   "source": [
    "import random\n",
    "l = [1,2,3,4,5,6,7,8,9,10];\n",
    "print(l)\n",
    "print(\"Random Element From List: \",random.choice(l))"
   ]
  },
  {
   "cell_type": "markdown",
   "metadata": {
    "id": "VWouUT84LMQz"
   },
   "source": [
    "### 04) WAP to demonstrate the use of the math module."
   ]
  },
  {
   "cell_type": "code",
   "execution_count": 10,
   "metadata": {
    "colab": {
     "base_uri": "https://localhost:8080/"
    },
    "id": "weRozH2TLMQz",
    "outputId": "fb51a06b-57f6-4d4f-9b72-91cc243e4150"
   },
   "outputs": [
    {
     "name": "stdout",
     "output_type": "stream",
     "text": [
      "Value od pi: 3.141592653589793\n",
      "Value od e: 2.718281828459045\n",
      "Square of 10: 3.1622776601683795\n",
      "Sine of 30 degrees: -0.9880316240928618\n",
      "Cosine of 45 degrees: 0.5253219888177297\n",
      "Tangent of 60 degrees: 0.320040389379563\n",
      "Floor of 2.5 2\n",
      "Ceiling of 3.2 4\n",
      "Factorial of 5: 120\n",
      "Absolute value of -5: 5.0\n",
      "2 raised to the power of 3: 8.0\n",
      "Logarithm of 10 to the base 2: 3.3219280948873626\n",
      "Natural logarithm of 10 (log of 10 to the base e): 0.3622156711596981\n",
      "Hyperbolic sine of 1: 1.1752011936438014\n",
      "Hyperbolic cosine of 1: 1.5430806348152437\n",
      "Hyperbolic tangent of 1: 0.7615941559557649\n",
      "Inverse hyperbolic sine of 1: 0.881373587019543\n",
      "Inverse hyperbolic cosine of 1: 0.0\n",
      "Inverse hyperbolic tangent of 0: 0.0\n"
     ]
    }
   ],
   "source": [
    "import math\n",
    "print(\"Value od pi:\",math.pi);\n",
    "print(\"Value od e:\",math.e);\n",
    "print(\"Square of 10:\",math.sqrt(10));\n",
    "print(\"Sine of 30 degrees:\",math.sin(30));\n",
    "print(\"Cosine of 45 degrees:\",math.cos(45));\n",
    "print(\"Tangent of 60 degrees:\",math.tan(60));\n",
    "print(\"Floor of 2.5\",math.floor(2.5));\n",
    "print(\"Ceiling of 3.2\",math.ceil(3.2));\n",
    "print(\"Factorial of 5:\",math.factorial(5));\n",
    "print(\"Absolute value of -5:\",math.fabs(-5));\n",
    "print(\"2 raised to the power of 3:\",math.pow(2,3));\n",
    "print(\"Logarithm of 10 to the base 2:\",math.log(10,2));\n",
    "print(\"Natural logarithm of 10 (log of 10 to the base e):\",math.log10(2.302585));\n",
    "print(\"Hyperbolic sine of 1:\",math.sinh(1));\n",
    "print(\"Hyperbolic cosine of 1:\",math.cosh(1));\n",
    "print(\"Hyperbolic tangent of 1:\",math.tanh(1));\n",
    "print(\"Inverse hyperbolic sine of 1:\",math.asinh(1));\n",
    "print(\"Inverse hyperbolic cosine of 1:\",math.acosh(1));\n",
    "print(\"Inverse hyperbolic tangent of 0:\",math.atanh(0));"
   ]
  },
  {
   "cell_type": "markdown",
   "metadata": {
    "id": "i-C7uIMTLMQz"
   },
   "source": [
    "### 05) WAP to demonstrate the use of date time module."
   ]
  },
  {
   "cell_type": "code",
   "execution_count": 1,
   "metadata": {
    "colab": {
     "base_uri": "https://localhost:8080/"
    },
    "id": "uhuwrEcMLMQ0",
    "outputId": "f9649c16-262e-4b76-d359-7a0740c5c550"
   },
   "outputs": [
    {
     "name": "stdout",
     "output_type": "stream",
     "text": [
      "Current Date and Time: 2024-04-10 10:33:02.084156\n",
      "Current Date: 2024-04-10\n",
      "Current Time: 10:33:02.084156\n",
      "Date after one week: 2024-04-17\n"
     ]
    }
   ],
   "source": [
    "import datetime\n",
    "\n",
    "current_datetime = datetime.datetime.now()\n",
    "\n",
    "print(\"Current Date and Time:\", current_datetime)\n",
    "\n",
    "current_date = current_datetime.date()\n",
    "current_time = current_datetime.time()\n",
    "\n",
    "print(\"Current Date:\", current_date)\n",
    "print(\"Current Time:\", current_time)\n",
    "\n",
    "one_week = datetime.timedelta(days=7)\n",
    "\n",
    "future_date = current_date + one_week\n",
    "\n",
    "print(\"Date after one week:\", future_date)\n"
   ]
  },
  {
   "cell_type": "markdown",
   "metadata": {
    "id": "cWSYdh9ILMQ0"
   },
   "source": [
    "# B"
   ]
  },
  {
   "cell_type": "markdown",
   "metadata": {
    "id": "X2D__KOCLMQ0"
   },
   "source": [
    "### 01) WAP to Roll dice in such a way that every time you get the same number."
   ]
  },
  {
   "cell_type": "code",
   "execution_count": 37,
   "metadata": {
    "colab": {
     "base_uri": "https://localhost:8080/"
    },
    "id": "q1b9fFILLMQ0",
    "outputId": "312474c6-28fe-4d34-c26b-1dc7e564dba5"
   },
   "outputs": [
    {
     "name": "stdout",
     "output_type": "stream",
     "text": [
      "1.roll the dice    2.To exit \n"
     ]
    },
    {
     "name": "stdin",
     "output_type": "stream",
     "text": [
      "what you want to do\n",
      " 1\n"
     ]
    },
    {
     "name": "stdout",
     "output_type": "stream",
     "text": [
      "3\n",
      "1.roll the dice    2.To exit \n"
     ]
    },
    {
     "name": "stdin",
     "output_type": "stream",
     "text": [
      "what you want to do\n",
      " 1\n"
     ]
    },
    {
     "name": "stdout",
     "output_type": "stream",
     "text": [
      "1\n",
      "1.roll the dice    2.To exit \n"
     ]
    },
    {
     "name": "stdin",
     "output_type": "stream",
     "text": [
      "what you want to do\n",
      " 2\n"
     ]
    }
   ],
   "source": [
    "import random \n",
    "while True:\n",
    "  print('''1.roll the dice    2.To exit ''')\n",
    "  user = int(input(\"what you want to do\\n\"))\n",
    "  if user==1:\n",
    "    number = random.randint(1,6)\n",
    "    print(number)\n",
    "  else:\n",
    "    break"
   ]
  },
  {
   "cell_type": "markdown",
   "metadata": {
    "id": "J7HFPU1kLMQ0"
   },
   "source": [
    "### 02) WAP to generate 3 random integers between 100 and 999 which is divisible by 5."
   ]
  },
  {
   "cell_type": "code",
   "execution_count": 39,
   "metadata": {
    "colab": {
     "base_uri": "https://localhost:8080/"
    },
    "id": "IKP0ej0cLMQ0",
    "outputId": "fb2f01ce-1491-4465-efd7-b8f388f05091"
   },
   "outputs": [
    {
     "name": "stdout",
     "output_type": "stream",
     "text": [
      "600 935 170\n"
     ]
    }
   ],
   "source": [
    "import random\n",
    "a = random.randrange(100, 999, 5)\n",
    "b = random.randrange(100, 999, 5)\n",
    "c = random.randrange(100, 999, 5)\n",
    "print(a, b, c)"
   ]
  },
  {
   "cell_type": "markdown",
   "metadata": {
    "id": "oOBh6wmxLMQ1"
   },
   "source": [
    "### 03) WAP to generate 100 random lottery tickets and pick two lucky tickets from it as a winner."
   ]
  },
  {
   "cell_type": "code",
   "execution_count": 43,
   "metadata": {
    "colab": {
     "base_uri": "https://localhost:8080/"
    },
    "id": "XQ5IdX0uLMQ1",
    "outputId": "6a94c6f0-54be-4ec3-9ff8-00a00d97d33e"
   },
   "outputs": [
    {
     "name": "stdout",
     "output_type": "stream",
     "text": [
      "159885\n"
     ]
    }
   ],
   "source": [
    "import random\n",
    "a = random.randrange(100000, 999999, 5)\n",
    "print(a)"
   ]
  },
  {
   "cell_type": "markdown",
   "metadata": {
    "id": "wWZvsIWILMQ1"
   },
   "source": [
    "### 04) WAP to print current date and time in Python."
   ]
  },
  {
   "cell_type": "code",
   "execution_count": 50,
   "metadata": {
    "colab": {
     "base_uri": "https://localhost:8080/"
    },
    "id": "DeValrE4LMQ1",
    "outputId": "cf43df8e-87e7-4224-92ed-d33af4f36345"
   },
   "outputs": [
    {
     "name": "stdout",
     "output_type": "stream",
     "text": [
      "Current date and time 2024-03-12 11:17:57.743465\n"
     ]
    }
   ],
   "source": [
    "import datetime\n",
    "print(\"Current date and time\",datetime.datetime.now())"
   ]
  },
  {
   "cell_type": "markdown",
   "metadata": {
    "id": "11XxWxOcLMQ1"
   },
   "source": [
    "### 05) Subtract a week (7 days) from a given date in Python."
   ]
  },
  {
   "cell_type": "code",
   "execution_count": 3,
   "metadata": {
    "colab": {
     "base_uri": "https://localhost:8080/"
    },
    "id": "gmQjNjabLMQ1",
    "outputId": "12b92e7a-111d-4fb3-e867-775375f6eff2"
   },
   "outputs": [
    {
     "name": "stdout",
     "output_type": "stream",
     "text": [
      "Current Date: 2024-02-06\n",
      "date one week ago: 2024-01-30\n"
     ]
    }
   ],
   "source": [
    "from datetime import datetime, timedelta\n",
    "initial_date = datetime(2024, 2, 6)  \n",
    "new_date = initial_date - timedelta(days=7)\n",
    "print(\"Current Date:\", initial_date.strftime(\"%Y-%m-%d\"))\n",
    "print(\"date one week ago:\", new_date.strftime(\"%Y-%m-%d\"))"
   ]
  },
  {
   "cell_type": "markdown",
   "metadata": {
    "id": "5uQbBI5zLMQ1"
   },
   "source": [
    "### 06) WAP to Calculate number of days between two given dates."
   ]
  },
  {
   "cell_type": "code",
   "execution_count": 6,
   "metadata": {
    "colab": {
     "base_uri": "https://localhost:8080/"
    },
    "id": "KXJlw4MJLMQ2",
    "outputId": "1e50a4a9-b5fd-41d0-9ff9-ec141b828a11"
   },
   "outputs": [
    {
     "name": "stdout",
     "output_type": "stream",
     "text": [
      "2023-08-10 2024-08-15\n",
      "Number of days between 2023-08-10 and 2024-08-15 : 371\n"
     ]
    }
   ],
   "source": [
    "from datetime import datetime\n",
    "\n",
    "def days_between_dates(date1, date2):\n",
    "    date1_obj = datetime.strptime(date1, \"%Y-%m-%d\")\n",
    "    date2_obj = datetime.strptime(date2, \"%Y-%m-%d\")\n",
    "\n",
    "    delta = abs(date2_obj - date1_obj)\n",
    "    return delta.days\n",
    "date1 = \"2023-08-10\"\n",
    "date2 = \"2024-08-15\"\n",
    "print(date1 , date2)\n",
    "print(\"Number of days between\", date1, \"and\", date2, \":\", days_between_dates(date1, date2))\n"
   ]
  },
  {
   "cell_type": "markdown",
   "metadata": {
    "id": "tVV977eRLMQ2"
   },
   "source": [
    "### 07) WAP to Find the day of the week of a given date."
   ]
  },
  {
   "cell_type": "code",
   "execution_count": 9,
   "metadata": {
    "colab": {
     "base_uri": "https://localhost:8080/"
    },
    "id": "_DbHslkvLMQ2",
    "outputId": "787b3e7d-6a05-4852-f3aa-dbce678f22e0"
   },
   "outputs": [
    {
     "name": "stdout",
     "output_type": "stream",
     "text": [
      "On 2024-08-15 it was : Thursday\n"
     ]
    }
   ],
   "source": [
    "import datetime\n",
    "from datetime import datetime\n",
    "\n",
    "def day_of_week(date_str):\n",
    "    date_obj = datetime.strptime(date_str, \"%Y-%m-%d\")\n",
    "    \n",
    "    day_index = date_obj.weekday()\n",
    "    days = [\"Monday\", \"Tuesday\", \"Wednesday\", \"Thursday\", \"Friday\", \"Saturday\", \"Sunday\"]\n",
    "    return days[day_index]\n",
    "\n",
    "date_str = \"2024-08-15\"\n",
    "print(\"On\",date_str,\"it was\", \":\", day_of_week(date_str))\n"
   ]
  },
  {
   "cell_type": "code",
   "execution_count": null,
   "metadata": {},
   "outputs": [],
   "source": []
  }
 ],
 "metadata": {
  "colab": {
   "provenance": []
  },
  "kernelspec": {
   "display_name": "Python 3 (ipykernel)",
   "language": "python",
   "name": "python3"
  },
  "language_info": {
   "codemirror_mode": {
    "name": "ipython",
    "version": 3
   },
   "file_extension": ".py",
   "mimetype": "text/x-python",
   "name": "python",
   "nbconvert_exporter": "python",
   "pygments_lexer": "ipython3",
   "version": "3.12.1"
  }
 },
 "nbformat": 4,
 "nbformat_minor": 4
}
