{
 "cells": [
  {
   "cell_type": "markdown",
   "metadata": {},
   "source": [
    "\n",
    "<a href='https://www.darshan.ac.in/'> <img src='https://www.darshan.ac.in/Content/media/DU_Logo.svg' width=\"250\" height=\"300\"/></a>\n",
    "<pre>\n",
    "<center><b><h1>Python Programming - 2101CS405</b></center>\n",
    "<center><b><h1>Lab - 5</b></center>    \n",
    "<pre>\n",
    "### Makvana Kashish Rohitbhai\n",
    "### 23010101629\n",
    "### 30-january-2024"
   ]
  },
  {
   "cell_type": "markdown",
   "metadata": {},
   "source": [
    "# list"
   ]
  },
  {
   "cell_type": "markdown",
   "metadata": {},
   "source": [
    "### 01) WAP to find sum of all the elements in List."
   ]
  },
  {
   "cell_type": "code",
   "execution_count": 1,
   "metadata": {},
   "outputs": [
    {
     "name": "stdin",
     "output_type": "stream",
     "text": [
      "Enter the number of elements in the list:  3\n",
      "Enter element 1:  10\n",
      "Enter element 2:  20\n",
      "Enter element 3:  30\n"
     ]
    },
    {
     "name": "stdout",
     "output_type": "stream",
     "text": [
      "Sum of elements in the list: 60\n"
     ]
    }
   ],
   "source": [
    "num_elements = int(input(\"Enter the number of elements in the list: \"))\n",
    "my_list = []\n",
    "\n",
    "for i in range(num_elements):\n",
    "    element = int(input(f\"Enter element {i + 1}: \"))\n",
    "    my_list.append(element)\n",
    "\n",
    "sum_of_elements = 0\n",
    "for element in my_list:\n",
    "    sum_of_elements += element\n",
    "\n",
    "print(\"Sum of elements in the list:\", sum_of_elements)\n"
   ]
  },
  {
   "cell_type": "markdown",
   "metadata": {},
   "source": [
    "### 02) WAP to find largest element in a List."
   ]
  },
  {
   "cell_type": "code",
   "execution_count": 2,
   "metadata": {},
   "outputs": [
    {
     "name": "stdin",
     "output_type": "stream",
     "text": [
      "Enter the number of elements in the list:  5\n",
      "Enter element 1:  2\n",
      "Enter element 2:  3\n",
      "Enter element 3:  4\n",
      "Enter element 4:  6\n",
      "Enter element 5:  8\n"
     ]
    },
    {
     "name": "stdout",
     "output_type": "stream",
     "text": [
      "Largest number in the list: 8\n"
     ]
    }
   ],
   "source": [
    "num_elements = int(input(\"Enter the number of elements in the list: \"))\n",
    "my_list = []\n",
    "\n",
    "for i in range(num_elements):\n",
    "    element = int(input(f\"Enter element {i + 1}: \"))\n",
    "    my_list.append(element)\n",
    "\n",
    "largest_number = my_list[0] \n",
    "\n",
    "for num in my_list:\n",
    "    if num > largest_number:\n",
    "        largest_number = num\n",
    "\n",
    "print(\"Largest number in the list:\", largest_number)"
   ]
  },
  {
   "cell_type": "markdown",
   "metadata": {},
   "source": [
    "### 03) WAP to split the List into two and append the first part to the end."
   ]
  },
  {
   "cell_type": "code",
   "execution_count": 5,
   "metadata": {},
   "outputs": [
    {
     "name": "stdin",
     "output_type": "stream",
     "text": [
      "Enter the number of elements in the list:  4\n",
      "Enter element 1:  1\n",
      "Enter element 2:  2\n",
      "Enter element 3:  3\n",
      "Enter element 4:  4\n"
     ]
    },
    {
     "name": "stdout",
     "output_type": "stream",
     "text": [
      "First part of list : [1, 2]\n",
      "Second part of list : [3, 4]\n",
      "List after splitting and appending the first part to the end: [3, 4, 1, 2]\n"
     ]
    }
   ],
   "source": [
    "num_elements = int(input(\"Enter the number of elements in the list: \"))\n",
    "my_list = []\n",
    "\n",
    "for i in range(num_elements):\n",
    "    element = int(input(f\"Enter element {i + 1}: \"))\n",
    "    my_list.append(element)\n",
    "\n",
    "split_index = int(len(my_list) / 2)\n",
    "first_part = my_list[:split_index]\n",
    "second_part = my_list[split_index:]\n",
    "\n",
    "print(\"First part of list :\",first_part)\n",
    "print(\"Second part of list :\",second_part)\n",
    "\n",
    "my_list = second_part + first_part\n",
    "\n",
    "print(\"List after splitting and appending the first part to the end:\", my_list)"
   ]
  },
  {
   "cell_type": "markdown",
   "metadata": {},
   "source": [
    "### 04) WAP to interchange first and last elements in list entered by a user."
   ]
  },
  {
   "cell_type": "code",
   "execution_count": 10,
   "metadata": {},
   "outputs": [
    {
     "name": "stdin",
     "output_type": "stream",
     "text": [
      "Enter the number of elements in the list:  4\n",
      "Enter element 1:  1\n",
      "Enter element 2:  2\n",
      "Enter element 3:  3\n",
      "Enter element 4:  4\n"
     ]
    },
    {
     "name": "stdout",
     "output_type": "stream",
     "text": [
      "List before interchanging first and last elements: [1, 2, 3, 4]\n",
      "List after interchanging first and last elements: [4, 2, 3, 1]\n"
     ]
    }
   ],
   "source": [
    "num_elements = int(input(\"Enter the number of elements in the list: \"))\n",
    "my_list = []\n",
    "\n",
    "for i in range(num_elements):\n",
    "    element = int(input(f\"Enter element {i + 1}: \"))\n",
    "    my_list.append(element)\n",
    "print(\"List before interchanging first and last elements:\", my_list)\n",
    "\n",
    "if num_elements >= 2:\n",
    "    my_list[0], my_list[-1] = my_list[-1], my_list[0]\n",
    "    print(\"List after interchanging first and last elements:\", my_list)\n",
    "else:\n",
    "    print(\"List should have at least two elements for interchange.\")"
   ]
  },
  {
   "cell_type": "markdown",
   "metadata": {},
   "source": [
    "### 05) WAP to interchange the elements on two positions entered by a user."
   ]
  },
  {
   "cell_type": "code",
   "execution_count": 11,
   "metadata": {},
   "outputs": [
    {
     "name": "stdin",
     "output_type": "stream",
     "text": [
      "Enter the number of elements in the list:  4\n",
      "Enter element 1:  1\n",
      "Enter element 2:  2\n",
      "Enter element 3:  3\n",
      "Enter element 4:  4\n"
     ]
    },
    {
     "name": "stdout",
     "output_type": "stream",
     "text": [
      "List before interchanging first and last elements: [1, 2, 3, 4]\n",
      "List after interchanging first and last elements: [1, 3, 2, 4]\n"
     ]
    }
   ],
   "source": [
    "num_elements = int(input(\"Enter the number of elements in the list: \"))\n",
    "my_list = []\n",
    "\n",
    "for i in range(num_elements):\n",
    "    element = int(input(f\"Enter element {i + 1}: \"))\n",
    "    my_list.append(element)\n",
    "print(\"List before interchanging first and last elements:\", my_list)\n",
    "\n",
    "if num_elements >= 2:\n",
    "    my_list[1], my_list[-2] = my_list[-2], my_list[1]\n",
    "    print(\"List after interchanging first and last elements:\", my_list)\n",
    "else:\n",
    "    print(\"List should have at least two elements for interchange.\")"
   ]
  },
  {
   "cell_type": "markdown",
   "metadata": {},
   "source": [
    "### 06) WAP to reverses the list entered by user."
   ]
  },
  {
   "cell_type": "code",
   "execution_count": 34,
   "metadata": {},
   "outputs": [
    {
     "name": "stdin",
     "output_type": "stream",
     "text": [
      "Enter the number of elements in the list:  4\n",
      "Enter element 1:  1\n",
      "Enter element 2:  2\n",
      "Enter element 3:  3\n",
      "Enter element 4:  5\n"
     ]
    },
    {
     "name": "stdout",
     "output_type": "stream",
     "text": [
      "Original List is : ['1', '2', '3', '5']\n",
      "Reversed List is : ['5', '3', '2', '1']\n"
     ]
    }
   ],
   "source": [
    "num_elements = int(input(\"Enter the number of elements in the list: \"))\n",
    "my_list = []\n",
    "\n",
    "for i in range(num_elements):\n",
    "    element = input(f\"Enter element {i + 1}: \")\n",
    "    my_list.append(element)\n",
    "print(\"Original List is :\",my_list)\n",
    "\n",
    "my_list.reverse()\n",
    "print(\"Reversed List is :\",my_list)"
   ]
  },
  {
   "cell_type": "markdown",
   "metadata": {},
   "source": [
    "### 07) Python program to remove multiple elements from a list using list comprehension"
   ]
  },
  {
   "cell_type": "code",
   "execution_count": 35,
   "metadata": {},
   "outputs": [
    {
     "name": "stdin",
     "output_type": "stream",
     "text": [
      "Enter the number of elements in the list:  4\n",
      "Enter element 1:  2\n",
      "Enter element 2:  3\n",
      "Enter element 3:  1\n",
      "Enter element 4:  4\n",
      "Enter the number of elements to remove:  3\n",
      "Enter element to remove 1:  1\n",
      "Enter element to remove 2:  2\n",
      "Enter element to remove 3:  3\n"
     ]
    },
    {
     "name": "stdout",
     "output_type": "stream",
     "text": [
      "List after removing elements: [4]\n"
     ]
    }
   ],
   "source": [
    "num_elements = int(input(\"Enter the number of elements in the list: \"))\n",
    "my_list = []\n",
    "\n",
    "for i in range(num_elements):\n",
    "    element = int(input(f\"Enter element {i + 1}: \"))\n",
    "    my_list.append(element)\n",
    "\n",
    "num_elements_to_remove = int(input(\"Enter the number of elements to remove: \"))\n",
    "elements_to_remove = []\n",
    "\n",
    "for i in range(num_elements_to_remove):\n",
    "    element = int(input(f\"Enter element to remove {i + 1}: \"))\n",
    "    elements_to_remove.append(element)\n",
    "\n",
    "my_list = [x for x in my_list if x not in elements_to_remove]\n",
    "\n",
    "print(\"List after removing elements:\", my_list)\n"
   ]
  },
  {
   "cell_type": "markdown",
   "metadata": {},
   "source": [
    "### 08) Create a list from the specified start to end index of another list."
   ]
  },
  {
   "cell_type": "code",
   "execution_count": 2,
   "metadata": {},
   "outputs": [
    {
     "name": "stdout",
     "output_type": "stream",
     "text": [
      "list1 :  [10, 20, 30, 40, 50, 60]\n",
      "list2:  [20, 30, 40, 50]\n"
     ]
    }
   ],
   "source": [
    "list1 = [10, 20, 30, 40, 50, 60]\n",
    "start = 1\n",
    "end = 4\n",
    "if start < 0:\n",
    "    print(\"Invalid start index\")\n",
    "    quit()\n",
    "if end > len(list1) - 1:\n",
    "    print(\"Invalid end index\")\n",
    "    quit()\n",
    "list2 = list1[start : end + 1]\n",
    "print(\"list1 : \", list1)\n",
    "print(\"list2: \", list2)"
   ]
  },
  {
   "cell_type": "markdown",
   "metadata": {},
   "source": [
    "### 09) Input comma separated elements, convert into list and print."
   ]
  },
  {
   "cell_type": "code",
   "execution_count": 3,
   "metadata": {},
   "outputs": [
    {
     "name": "stdin",
     "output_type": "stream",
     "text": [
      "Enter comma separated integers:  5,10,2,1,44,4154,12564,22,44,4\n"
     ]
    },
    {
     "name": "stdout",
     "output_type": "stream",
     "text": [
      "Input string:  5,10,2,1,44,4154,12564,22,44,4\n",
      "list:  ['5', '10', '2', '1', '44', '4154', '12564', '22', '44', '4']\n",
      "list (li) :  [5, 10, 2, 1, 44, 4154, 12564, 22, 44, 4]\n"
     ]
    }
   ],
   "source": [
    "str = str (input(\"Enter comma separated integers: \"))\n",
    "print(\"Input string: \", str)\n",
    "\n",
    "list = str.split (\",\")\n",
    "print(\"list: \", list)\n",
    "\n",
    "li = []\n",
    "for i in list:\n",
    "\tli.append(int(i))\n",
    "print(\"list (li) : \", li)"
   ]
  },
  {
   "cell_type": "markdown",
   "metadata": {},
   "source": [
    "### 01) WAP to count Even and Odd numbers in a List."
   ]
  },
  {
   "cell_type": "code",
   "execution_count": 5,
   "metadata": {},
   "outputs": [
    {
     "name": "stdout",
     "output_type": "stream",
     "text": [
      "Number of even numbers: 5\n",
      "Number of odd numbers: 5\n"
     ]
    }
   ],
   "source": [
    "numbers = (1, 2, 3, 4, 5, 6, 7, 8, 9, 10)\n",
    "count_odd = 0\n",
    "count_even = 0\n",
    "\n",
    "for x in numbers:\n",
    "    if not x % 2: \n",
    "        count_even += 1\n",
    "    else:\n",
    "        count_odd += 1\n",
    "\n",
    "print(\"Number of even numbers:\", count_even)\n",
    "print(\"Number of odd numbers:\", count_odd)"
   ]
  },
  {
   "cell_type": "markdown",
   "metadata": {},
   "source": [
    "### 02) Python program to find N largest and smallest elements from the list"
   ]
  },
  {
   "cell_type": "code",
   "execution_count": 8,
   "metadata": {},
   "outputs": [
    {
     "name": "stdin",
     "output_type": "stream",
     "text": [
      "How many numbers:  10\n",
      "Enter number  1\n",
      "Enter number  2\n",
      "Enter number  3\n",
      "Enter number  4\n",
      "Enter number  5\n",
      "Enter number  6\n",
      "Enter number  7\n",
      "Enter number  8\n",
      "Enter number  9\n",
      "Enter number  10\n"
     ]
    },
    {
     "name": "stdout",
     "output_type": "stream",
     "text": [
      "Maximum element in the list is : 10 \n",
      "Minimum element in the list is : 1\n"
     ]
    }
   ],
   "source": [
    "lst = []\n",
    "num = int(input('How many numbers: '))\n",
    "for n in range(num):\n",
    "    numbers = int(input('Enter number '))\n",
    "    lst.append(numbers)\n",
    "print(\"Maximum element in the list is :\", max(lst), \"\\nMinimum element in the list is :\", min(lst))"
   ]
  },
  {
   "cell_type": "markdown",
   "metadata": {},
   "source": [
    "### 03) WAP to print duplicates from a list of integers"
   ]
  },
  {
   "cell_type": "code",
   "execution_count": 10,
   "metadata": {},
   "outputs": [
    {
     "name": "stdout",
     "output_type": "stream",
     "text": [
      "Duplicate integeres:  [5, 4, 22, 44]\n"
     ]
    }
   ],
   "source": [
    "def duplicate(li):\n",
    "    n=len(li)\n",
    "    dup=[]\n",
    "    for i in range(n):\n",
    "        k = i + 1\n",
    "        for j in range(k,n):\n",
    "            if li[i] == li[j] and li[i] not in dup:\n",
    "                dup.append(li[i])\n",
    "    return dup\n",
    "\n",
    "li=[5, 10, 2, 1, 4, 5, 22, 44, 4154, 12564, 22, 44, 4]\n",
    "print(\"Duplicate integeres: \",duplicate(li))"
   ]
  },
  {
   "cell_type": "code",
   "execution_count": null,
   "metadata": {},
   "outputs": [],
   "source": []
  }
 ],
 "metadata": {
  "kernelspec": {
   "display_name": "Python 3 (ipykernel)",
   "language": "python",
   "name": "python3"
  },
  "language_info": {
   "codemirror_mode": {
    "name": "ipython",
    "version": 3
   },
   "file_extension": ".py",
   "mimetype": "text/x-python",
   "name": "python",
   "nbconvert_exporter": "python",
   "pygments_lexer": "ipython3",
   "version": "3.12.1"
  }
 },
 "nbformat": 4,
 "nbformat_minor": 4
}
